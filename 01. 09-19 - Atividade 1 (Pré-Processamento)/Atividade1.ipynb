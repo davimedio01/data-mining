{
 "cells": [
  {
   "cell_type": "markdown",
   "metadata": {},
   "source": [
    "### Atividade 1 - Mineração de Dados\n",
    "\n",
    "<h8> \n",
    "Nome: Davi Augusto Neves Leite <br />\n",
    "Data de Entrega: 19/09/2023\n",
    "</h8>\n"
   ]
  }
 ],
 "metadata": {
  "language_info": {
   "name": "python"
  },
  "orig_nbformat": 4
 },
 "nbformat": 4,
 "nbformat_minor": 2
}
