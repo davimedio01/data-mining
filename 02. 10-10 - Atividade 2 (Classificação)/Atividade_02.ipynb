{
 "cells": [
  {
   "cell_type": "markdown",
   "metadata": {},
   "source": [
    "**Classificação - Mineração de Dados**\n"
   ]
  },
  {
   "cell_type": "markdown",
   "metadata": {},
   "source": [
    "**Nome: Davi Augusto Neves Leite**\n",
    "\n",
    "**Data de Entrega: 17/10/2023**\n"
   ]
  },
  {
   "cell_type": "markdown",
   "metadata": {},
   "source": [
    "---\n"
   ]
  },
  {
   "cell_type": "markdown",
   "metadata": {},
   "source": [
    "# **Materiais**\n"
   ]
  },
  {
   "cell_type": "markdown",
   "metadata": {},
   "source": [
    "Os principais recursos para a execução desta atividade podem ser vistos a seguir.\n",
    "\n",
    "1. **Software**\n",
    "\n",
    "- Sistemas Operacionais: Windows 11 para _desktop_;\n",
    "- Ambiente de Desenvolvimento Integrado: Microsoft Visual Studio Code;\n",
    "- Linguagem de Programação: Python 3.12.0 64-bit.\n",
    "\n",
    "2. **Hardware**\n",
    "\n",
    "- Notebook pessoal Lenovo Ideapad 330-15IKB com: processador Intel Core i7-8550U, HDD WD Blue WD10SPZX de 1TB, SSD Crucial BX500 de 1TB, 12 GB DDR4 de Memória RAM e placa de vídeo NVIDIA GeForce MX150 (2 GB GDDR5 de memória).\n"
   ]
  },
  {
   "cell_type": "markdown",
   "metadata": {},
   "source": [
    "---\n"
   ]
  },
  {
   "cell_type": "markdown",
   "metadata": {},
   "source": [
    "# **Instalação das Bibliotecas Principais**\n",
    "\n",
    "Nota: ao decorrer deste Notebook, outras bibliotecas podem ser utilizadas em quaisquer respectiva seção/conjunto de dados, dependendo da necessidade. Abaixo, há a instalação das principais que são comuns e utilizadas em todas ou quase todas seções/conjunto de dados.\n"
   ]
  },
  {
   "cell_type": "code",
   "execution_count": 2,
   "metadata": {},
   "outputs": [
    {
     "name": "stdout",
     "output_type": "stream",
     "text": [
      "Requirement already satisfied: numpy in c:\\python312\\lib\\site-packages (1.26.0)Note: you may need to restart the kernel to use updated packages.\n",
      "\n",
      "Requirement already satisfied: pandas in c:\\python312\\lib\\site-packages (2.1.1)\n",
      "Requirement already satisfied: numpy>=1.26.0 in c:\\python312\\lib\\site-packages (from pandas) (1.26.0)\n",
      "Requirement already satisfied: python-dateutil>=2.8.2 in c:\\python312\\lib\\site-packages (from pandas) (2.8.2)\n",
      "Requirement already satisfied: pytz>=2020.1 in c:\\python312\\lib\\site-packages (from pandas) (2023.3.post1)\n",
      "Requirement already satisfied: tzdata>=2022.1 in c:\\python312\\lib\\site-packages (from pandas) (2023.3)\n",
      "Requirement already satisfied: six>=1.5 in c:\\python312\\lib\\site-packages (from python-dateutil>=2.8.2->pandas) (1.16.0)\n",
      "Note: you may need to restart the kernel to use updated packages.\n",
      "Requirement already satisfied: matplotlib in c:\\python312\\lib\\site-packages (3.8.0)\n",
      "Requirement already satisfied: contourpy>=1.0.1 in c:\\python312\\lib\\site-packages (from matplotlib) (1.1.1)\n",
      "Requirement already satisfied: cycler>=0.10 in c:\\python312\\lib\\site-packages (from matplotlib) (0.12.1)\n",
      "Requirement already satisfied: fonttools>=4.22.0 in c:\\python312\\lib\\site-packages (from matplotlib) (4.43.1)\n",
      "Requirement already satisfied: kiwisolver>=1.0.1 in c:\\python312\\lib\\site-packages (from matplotlib) (1.4.5)\n",
      "Requirement already satisfied: numpy<2,>=1.21 in c:\\python312\\lib\\site-packages (from matplotlib) (1.26.0)\n",
      "Requirement already satisfied: packaging>=20.0 in c:\\python312\\lib\\site-packages (from matplotlib) (23.2)\n",
      "Requirement already satisfied: pillow>=6.2.0 in c:\\python312\\lib\\site-packages (from matplotlib) (9.5.0)\n",
      "Requirement already satisfied: pyparsing>=2.3.1 in c:\\python312\\lib\\site-packages (from matplotlib) (3.1.1)\n",
      "Requirement already satisfied: python-dateutil>=2.7 in c:\\python312\\lib\\site-packages (from matplotlib) (2.8.2)\n",
      "Requirement already satisfied: six>=1.5 in c:\\python312\\lib\\site-packages (from python-dateutil>=2.7->matplotlib) (1.16.0)\n",
      "Note: you may need to restart the kernel to use updated packages.\n",
      "Requirement already satisfied: seaborn in c:\\python312\\lib\\site-packages (0.13.0)\n",
      "Requirement already satisfied: numpy!=1.24.0,>=1.20 in c:\\python312\\lib\\site-packages (from seaborn) (1.26.0)\n",
      "Requirement already satisfied: pandas>=1.2 in c:\\python312\\lib\\site-packages (from seaborn) (2.1.1)\n",
      "Requirement already satisfied: matplotlib!=3.6.1,>=3.3 in c:\\python312\\lib\\site-packages (from seaborn) (3.8.0)\n",
      "Requirement already satisfied: contourpy>=1.0.1 in c:\\python312\\lib\\site-packages (from matplotlib!=3.6.1,>=3.3->seaborn) (1.1.1)\n",
      "Requirement already satisfied: cycler>=0.10 in c:\\python312\\lib\\site-packages (from matplotlib!=3.6.1,>=3.3->seaborn) (0.12.1)\n",
      "Requirement already satisfied: fonttools>=4.22.0 in c:\\python312\\lib\\site-packages (from matplotlib!=3.6.1,>=3.3->seaborn) (4.43.1)\n",
      "Requirement already satisfied: kiwisolver>=1.0.1 in c:\\python312\\lib\\site-packages (from matplotlib!=3.6.1,>=3.3->seaborn) (1.4.5)\n",
      "Requirement already satisfied: packaging>=20.0 in c:\\python312\\lib\\site-packages (from matplotlib!=3.6.1,>=3.3->seaborn) (23.2)\n",
      "Requirement already satisfied: pillow>=6.2.0 in c:\\python312\\lib\\site-packages (from matplotlib!=3.6.1,>=3.3->seaborn) (9.5.0)\n",
      "Requirement already satisfied: pyparsing>=2.3.1 in c:\\python312\\lib\\site-packages (from matplotlib!=3.6.1,>=3.3->seaborn) (3.1.1)\n",
      "Requirement already satisfied: python-dateutil>=2.7 in c:\\python312\\lib\\site-packages (from matplotlib!=3.6.1,>=3.3->seaborn) (2.8.2)\n",
      "Requirement already satisfied: pytz>=2020.1 in c:\\python312\\lib\\site-packages (from pandas>=1.2->seaborn) (2023.3.post1)\n",
      "Requirement already satisfied: tzdata>=2022.1 in c:\\python312\\lib\\site-packages (from pandas>=1.2->seaborn) (2023.3)\n",
      "Requirement already satisfied: six>=1.5 in c:\\python312\\lib\\site-packages (from python-dateutil>=2.7->matplotlib!=3.6.1,>=3.3->seaborn) (1.16.0)\n",
      "Note: you may need to restart the kernel to use updated packages.\n",
      "Requirement already satisfied: plotly in c:\\python312\\lib\\site-packages (5.17.0)\n",
      "Requirement already satisfied: tenacity>=6.2.0 in c:\\python312\\lib\\site-packages (from plotly) (8.2.3)\n",
      "Requirement already satisfied: packaging in c:\\python312\\lib\\site-packages (from plotly) (23.2)\n",
      "Note: you may need to restart the kernel to use updated packages.\n",
      "Requirement already satisfied: scikit-learn in c:\\python312\\lib\\site-packages (1.3.1)\n",
      "Requirement already satisfied: numpy<2.0,>=1.17.3 in c:\\python312\\lib\\site-packages (from scikit-learn) (1.26.0)\n",
      "Requirement already satisfied: scipy>=1.5.0 in c:\\python312\\lib\\site-packages (from scikit-learn) (1.11.3)\n",
      "Requirement already satisfied: joblib>=1.1.1 in c:\\python312\\lib\\site-packages (from scikit-learn) (1.3.2)\n",
      "Requirement already satisfied: threadpoolctl>=2.0.0 in c:\\python312\\lib\\site-packages (from scikit-learn) (3.2.0)\n",
      "Note: you may need to restart the kernel to use updated packages.\n"
     ]
    }
   ],
   "source": [
    "%pip install numpy\n",
    "%pip install pandas\n",
    "%pip install matplotlib\n",
    "%pip install seaborn\n",
    "%pip install plotly\n",
    "%pip install scikit-learn\n"
   ]
  },
  {
   "cell_type": "markdown",
   "metadata": {},
   "source": [
    "---\n"
   ]
  },
  {
   "cell_type": "markdown",
   "metadata": {},
   "source": [
    "# **Importação das Bibliotecas Principais**\n",
    "\n",
    "Nota: ao decorrer deste Notebook, outras bibliotecas podem ser utilizadas em quaisquer respectiva seção/conjunto de dados, dependendo da necessidade. Abaixo, há a importação das principais que são comuns e utilizadas em todas ou quase todas seções/conjunto de dados.\n"
   ]
  },
  {
   "cell_type": "code",
   "execution_count": 3,
   "metadata": {},
   "outputs": [],
   "source": [
    "import numpy as np  # Manipulação de listas\n",
    "import pandas as pd  # Manipulação de tabelas\n",
    "import seaborn as sbn  # Geração de gráficos estatísticos\n",
    "import plotly.express as px  # Outro para geração de gráficos\n",
    "import matplotlib.pyplot as plt  # Geração de gráficos de listas\n",
    "import sklearn as skl  # Biblioteca para pré-processamento\n",
    "from copy import copy as cp  # Possibilitar copiar os objetos\n",
    "\n",
    "# Ignorar os avisos não importantes durante a execução deste notebook\n",
    "import warnings\n",
    "\n",
    "warnings.filterwarnings(\"ignore\")"
   ]
  },
  {
   "cell_type": "markdown",
   "metadata": {},
   "source": [
    "---\n"
   ]
  },
  {
   "cell_type": "markdown",
   "metadata": {},
   "source": [
    "# **Conjunto de Dados: _Fashion MNIST_**\n"
   ]
  },
  {
   "cell_type": "markdown",
   "metadata": {},
   "source": [
    "**Descrição do Dataset:** este conjunto é composto por **70 mil imagens** a respeito de **10 peças de roupas distintas**. Cada imagem possui a **resolução de 28x28 (784 pixels) em escala de cinza e 256 níveis de cinza**. Desse total, exitem **7000 imagens** para cada uma das peças de roupas, ou classes.\n",
    "\n",
    "Cada classe pode ser vista a seguir.\n",
    "\n",
    "1. Camiseta\n",
    "2. Calça\n",
    "3. Pulôver\n",
    "4. Vestido\n",
    "5. Casaco\n",
    "6. Sandália\n",
    "7. Camisa\n",
    "8. Tênis\n",
    "9. Bolsa\n",
    "10. Bota de Tornozelo\n",
    "\n",
    "Este conjunto de dados pode ser acessado por meio de: [Fashion MNIST](https://www.openml.org/search?type=data&status=active&id=40996)\n",
    "(última data de acesso: 02 de out. de 2023).\n"
   ]
  },
  {
   "cell_type": "markdown",
   "metadata": {},
   "source": [
    "**Para fins práticos, apenas as classes _Camiseta_, _Vestido_, _Casaco_ e _Camisa_ serão utilizadas para esta atividade, tendo em vista que, por se tratar de uma base de dados de imagens, o processamento necessário para classificação é elevado.**\n"
   ]
  },
  {
   "cell_type": "markdown",
   "metadata": {},
   "source": [
    "## **Importação da Base de Dados**\n"
   ]
  },
  {
   "cell_type": "markdown",
   "metadata": {},
   "source": [
    "Para importar as imagens, utiliza-se o módulo **scikit-learn** capaz de carregar diversas bases de dados através do portal **OpenML**, o qual essa base de dados está disponível online.\n"
   ]
  },
  {
   "cell_type": "code",
   "execution_count": 4,
   "metadata": {},
   "outputs": [],
   "source": [
    "# Importação da função necessária para importação de base de dados OpenML\n",
    "from sklearn.datasets import fetch_openml\n",
    "\n",
    "# Carrega as imagens e suas classes separadamente\n",
    "images, targets = fetch_openml(\n",
    "    \"Fashion-MNIST\", return_X_y=True, as_frame=True, parser=\"auto\"\n",
    ")\n",
    "\n",
    "# Conversão das imagens para NumPy\n",
    "images = images.to_numpy()\n",
    "targets = targets.to_numpy().astype(int)"
   ]
  },
  {
   "cell_type": "markdown",
   "metadata": {},
   "source": [
    "## **Pré-Processamento dos Dados**\n"
   ]
  },
  {
   "cell_type": "markdown",
   "metadata": {},
   "source": [
    "### Separação das Classes de Interesse\n",
    "\n",
    "Inicia-se com a separação das classes de interesse, isto é: _Camiseta_, _Vestido_, _Casaco_ e _Camisa_. Cada qual será referida, respectivamente, pela identificação de 0 a 3 (_0 - Camiseta_, _1 - Vestido_, ...).\n"
   ]
  },
  {
   "cell_type": "code",
   "execution_count": 5,
   "metadata": {},
   "outputs": [
    {
     "name": "stdout",
     "output_type": "stream",
     "text": [
      "Imagens Selecionadas:\n",
      " [[0 0 0 ... 0 0 0]\n",
      " [0 0 0 ... 0 0 0]\n",
      " [0 0 0 ... 0 0 0]\n",
      " ...\n",
      " [0 0 0 ... 0 0 0]\n",
      " [0 0 0 ... 0 0 0]\n",
      " [0 0 0 ... 0 0 0]]\n",
      "\n",
      "Rótulos Selecionados:  [0 0 1 ... 1 2 3]\n",
      "\n",
      "Total de Dados:  28000\n",
      "\n",
      "Características Totais:  784\n"
     ]
    }
   ],
   "source": [
    "# Definição das classes de interesse\n",
    "labels_class = {0: 0, 3: 1, 4: 2, 6: 3}\n",
    "\n",
    "# Variáveis de seleção das imagens e classes respectivas\n",
    "selected_images = []\n",
    "selected_targets = []\n",
    "\n",
    "# Criação de um dicionário com os rótulos das classes para fácil acesso\n",
    "labels_desc = {0: \"camiseta\", 1: \"vestido\", 2: \"casaco\", 3: \"camisa\"}\n",
    "labels_names = [\"Camiseta\", \"Vestido\", \"Casaco\", \"Camisa\"]\n",
    "\n",
    "# Percorre as imagens da base de dados original\n",
    "for idx, label in enumerate(targets):\n",
    "    # Para cada rótulo de interesse, salvar as imagens e os rótulos\n",
    "    if label in labels_class.keys():\n",
    "        selected_images.append(images[idx])\n",
    "        selected_targets.append(labels_class[targets[idx]])\n",
    "\n",
    "# Conversão para NumPy\n",
    "selected_images = np.array(selected_images)\n",
    "selected_targets = np.array(selected_targets)\n",
    "\n",
    "print(\"Imagens Selecionadas:\\n\", selected_images)\n",
    "print(\"\\nRótulos Selecionados: \", selected_targets)\n",
    "print(\"\\nTotal de Dados: \", selected_images.shape[0])\n",
    "print(\"\\nCaracterísticas Totais: \", selected_images.shape[1])"
   ]
  },
  {
   "cell_type": "markdown",
   "metadata": {},
   "source": [
    "### Exibição das Classes de Interesse\n",
    "\n",
    "Abaixo, é possível visualizar uma amostra de cada classe, por meio do **matplotlib**.\n"
   ]
  },
  {
   "cell_type": "code",
   "execution_count": 6,
   "metadata": {},
   "outputs": [
    {
     "data": {
      "image/png": "[encoded data removed]",
      "text/plain": [
       "<Figure size 1000x800 with 4 Axes>"
      ]
     },
     "metadata": {},
     "output_type": "display_data"
    }
   ],
   "source": [
    "# Selecionando um índice de cada classe\n",
    "idx_0 = np.where(selected_targets == 0)[0][0]\n",
    "idx_1 = np.where(selected_targets == 1)[0][0]\n",
    "idx_2 = np.where(selected_targets == 2)[0][0]\n",
    "idx_3 = np.where(selected_targets == 3)[0][0]\n",
    "idx_example_images = np.array([idx_0, idx_1, idx_2, idx_3])\n",
    "\n",
    "# Definindo o tamanho da figura\n",
    "plt.figure(figsize=(10, 8))\n",
    "\n",
    "# Definindo o número de linhas e colunas das subfiguras\n",
    "fig_n_rows = 1\n",
    "fig_n_cols = 5\n",
    "\n",
    "# Mostrando as amostras de cada classe\n",
    "for label, image_idx in enumerate(labels_desc.keys()):\n",
    "    plt.subplot(fig_n_rows, fig_n_cols, label + 1)\n",
    "    plt.title(f'Classe \"{labels_desc[label]}\"')\n",
    "    plt.imshow(\n",
    "        selected_images[idx_example_images[image_idx]].reshape(28, 28), cmap=\"gray\"\n",
    "    )\n",
    "    plt.axis(\"off\")\n",
    "plt.show()"
   ]
  },
  {
   "cell_type": "markdown",
   "metadata": {},
   "source": [
    "### Tratamento de Dados Perdidos ou Inexistentes (NaN)\n"
   ]
  },
  {
   "cell_type": "markdown",
   "metadata": {},
   "source": [
    "Para verificar se algum dado está faltando, **caso não seja indicado pela descrição do _dataset_**, pode ser realizado a seguinte operação de força-bruta:\n"
   ]
  },
  {
   "cell_type": "code",
   "execution_count": 7,
   "metadata": {},
   "outputs": [
    {
     "name": "stdout",
     "output_type": "stream",
     "text": [
      "Número de Dados Perdidos: 0\n"
     ]
    }
   ],
   "source": [
    "# Verificando o número de dados faltantes a partir do NumPy\n",
    "missing_selected_image = np.isnan(selected_images)\n",
    "missing_selected_image = np.sum(missing_selected_image)\n",
    "print(\"Número de Dados Perdidos: {0}\".format(missing_selected_image))"
   ]
  },
  {
   "cell_type": "markdown",
   "metadata": {},
   "source": [
    "Como é possível ver, não há nenhum dado perdido neste _dataset_ e, desta forma, não é necessário realizar nenhum método de tratamento neste contexto.\n"
   ]
  },
  {
   "cell_type": "markdown",
   "metadata": {},
   "source": [
    "### Normalização dos Dados\n"
   ]
  },
  {
   "cell_type": "markdown",
   "metadata": {},
   "source": [
    "Para normalizar os dados via _Standardization (Z-Score)_ deste **dataset**, basta aplicar as seguintes operações:\n"
   ]
  },
  {
   "cell_type": "code",
   "execution_count": 8,
   "metadata": {},
   "outputs": [
    {
     "name": "stdout",
     "output_type": "stream",
     "text": [
      "Dados Não Normalizados\n"
     ]
    },
    {
     "name": "stdout",
     "output_type": "stream",
     "text": [
      "\tMédia: 83.07479518950437 | Desvio-Padrão: 91.37124072201556\n",
      "[[0 0 0 ... 0 0 0]\n",
      " [0 0 0 ... 0 0 0]\n",
      " [0 0 0 ... 0 0 0]\n",
      " ...\n",
      " [0 0 0 ... 0 0 0]\n",
      " [0 0 0 ... 0 0 0]\n",
      " [0 0 0 ... 0 0 0]]\n",
      "\n",
      "\n",
      "Dados Normalizados com Z-Score\n",
      "\tMédia: -1.0875654118777043e-18 | Desvio-Padrão: 1.0000000000000036\n",
      "[[-0.01225947 -0.03279824 -0.04745495 ... -0.12940089 -0.06094292\n",
      "  -0.02434329]\n",
      " [-0.01225947 -0.03279824 -0.04745495 ... -0.12940089 -0.06094292\n",
      "  -0.02434329]\n",
      " [-0.01225947 -0.03279824 -0.04745495 ... -0.12940089 -0.06094292\n",
      "  -0.02434329]\n",
      " ...\n",
      " [-0.01225947 -0.03279824 -0.04745495 ... -0.12940089 -0.06094292\n",
      "  -0.02434329]\n",
      " [-0.01225947 -0.03279824 -0.04745495 ... -0.12940089 -0.06094292\n",
      "  -0.02434329]\n",
      " [-0.01225947 -0.03279824 -0.04745495 ... -0.12940089 -0.06094292\n",
      "  -0.02434329]]\n"
     ]
    }
   ],
   "source": [
    "# Função responsável pela normalização via Z-Score\n",
    "from sklearn.preprocessing import StandardScaler\n",
    "\n",
    "# Mostrando os dados não normalizados\n",
    "print(\"Dados Não Normalizados\")\n",
    "print(\n",
    "    \"\\tMédia: {0} | Desvio-Padrão: {1}\".format(\n",
    "        np.mean(selected_images), np.std(selected_images)\n",
    "    )\n",
    ")\n",
    "print(selected_images)\n",
    "\n",
    "\n",
    "# Aplicando a Normalização com Z-Score\n",
    "selected_images = StandardScaler().fit_transform(selected_images)\n",
    "print(\"\\n\")\n",
    "\n",
    "# Mostrando os dados normalizados\n",
    "print(\"Dados Normalizados com Z-Score\")\n",
    "print(\n",
    "    \"\\tMédia: {0} | Desvio-Padrão: {1}\".format(\n",
    "        np.mean(selected_images), np.std(selected_images)\n",
    "    )\n",
    ")\n",
    "print(selected_images)"
   ]
  },
  {
   "cell_type": "markdown",
   "metadata": {},
   "source": [
    "### Redução de Dimensionalidade: _Principal Component Analysis_\n"
   ]
  },
  {
   "cell_type": "markdown",
   "metadata": {},
   "source": [
    "Para reduzir a dimensionalidade deste **dataset**, é recomendado o uso do _Principal Component Analysis_ (PCA). Desta forma:\n"
   ]
  },
  {
   "cell_type": "code",
   "execution_count": 9,
   "metadata": {},
   "outputs": [
    {
     "name": "stdout",
     "output_type": "stream",
     "text": [
      "Dados Projetados com PCA\n",
      "[[ -8.89243418  -6.84724742  15.63560089 ...  -2.11852133   2.83039688\n",
      "    0.37564532]\n",
      " [ 20.76255007  -1.53247385  -1.77803514 ...  -0.44560986  -0.08820932\n",
      "   -0.33793707]\n",
      " [ 11.63199366  -2.03290061   1.93129275 ...  -0.0802204   -0.37779828\n",
      "    0.62663025]\n",
      " ...\n",
      " [  7.47857547 -11.07765904  -2.64888865 ...   0.49601293  -0.43328719\n",
      "    0.09147496]\n",
      " [  7.77211044   9.59472453  -5.11239766 ...  -2.58851855   1.46644292\n",
      "    0.73920643]\n",
      " [  6.28389114   7.2214502    1.51422515 ...  -2.76031065   0.56798434\n",
      "   -0.38808828]]\n",
      "\n",
      "\n",
      "Variâncias\n",
      "[0.24181924 0.1245917  0.07211684 0.04718346 0.03065534 0.02261994\n",
      " 0.02046765 0.01848201 0.01479091 0.01314452 0.01220269 0.01094536\n",
      " 0.01009212 0.00901519 0.00857669 0.00782518 0.00744489 0.00717616\n",
      " 0.00674517 0.00647135 0.00608507 0.00573545 0.00570089 0.00514537\n",
      " 0.00505738 0.00502761 0.00480964 0.00454625 0.00446634 0.00408037\n",
      " 0.00399888 0.00384314 0.00370925 0.00357938 0.00351809 0.00341067\n",
      " 0.00333838 0.00327824 0.00308645 0.00294644 0.00285255 0.00280856\n",
      " 0.00271618 0.00269037 0.0026329  0.00254564 0.00249593 0.00247573\n",
      " 0.00241141 0.00229089 0.00219954 0.00214756 0.00211414 0.00204233\n",
      " 0.00201182 0.00196245 0.00194279 0.00190809 0.00187222 0.00184833\n",
      " 0.00180729 0.00179637 0.00175092 0.0016951  0.00168891 0.00161229\n",
      " 0.00159997 0.00158323 0.00154709 0.0014919  0.00147309 0.001455\n",
      " 0.00142972 0.00139008 0.00138029 0.00136657 0.00134599 0.00132634\n",
      " 0.00130692 0.0012983  0.00127231 0.00125985 0.00124244 0.00121334\n",
      " 0.00118564 0.00116575 0.00116089 0.0011488  0.00113432 0.00112189\n",
      " 0.00110051 0.0010886  0.00107083 0.00105207 0.00102069 0.0010178\n",
      " 0.00101092 0.00100117 0.00096473 0.00095183 0.00094031 0.00092822\n",
      " 0.00091468 0.00089757 0.00089002 0.00088123 0.00087446 0.00086248\n",
      " 0.00085195 0.00084733 0.00083615 0.0008261  0.00080765 0.00080152\n",
      " 0.00079901 0.00079072 0.00078293 0.00077872 0.00076816 0.00075301\n",
      " 0.00074401 0.00073855 0.00072639 0.00072267 0.00071662 0.00071315\n",
      " 0.00069926 0.00069685 0.00068675 0.00068289]\n",
      "\n",
      "\n"
     ]
    },
    {
     "data": {
      "text/html": [
       "<div>\n",
       "<style scoped>\n",
       "    .dataframe tbody tr th:only-of-type {\n",
       "        vertical-align: middle;\n",
       "    }\n",
       "\n",
       "    .dataframe tbody tr th {\n",
       "        vertical-align: top;\n",
       "    }\n",
       "\n",
       "    .dataframe thead th {\n",
       "        text-align: right;\n",
       "    }\n",
       "</style>\n",
       "<table border=\"1\" class=\"dataframe\">\n",
       "  <thead>\n",
       "    <tr style=\"text-align: right;\">\n",
       "      <th></th>\n",
       "      <th>pixel1</th>\n",
       "      <th>pixel2</th>\n",
       "      <th>pixel3</th>\n",
       "      <th>pixel4</th>\n",
       "      <th>pixel5</th>\n",
       "      <th>pixel6</th>\n",
       "      <th>pixel7</th>\n",
       "      <th>pixel8</th>\n",
       "      <th>pixel9</th>\n",
       "      <th>pixel10</th>\n",
       "      <th>...</th>\n",
       "      <th>pixel775</th>\n",
       "      <th>pixel776</th>\n",
       "      <th>pixel777</th>\n",
       "      <th>pixel778</th>\n",
       "      <th>pixel779</th>\n",
       "      <th>pixel780</th>\n",
       "      <th>pixel781</th>\n",
       "      <th>pixel782</th>\n",
       "      <th>pixel783</th>\n",
       "      <th>pixel784</th>\n",
       "    </tr>\n",
       "  </thead>\n",
       "  <tbody>\n",
       "    <tr>\n",
       "      <th>component 0</th>\n",
       "      <td>0.000253</td>\n",
       "      <td>-0.000658</td>\n",
       "      <td>-0.000285</td>\n",
       "      <td>0.000005</td>\n",
       "      <td>0.000088</td>\n",
       "      <td>-0.000608</td>\n",
       "      <td>-0.000290</td>\n",
       "      <td>-0.001027</td>\n",
       "      <td>-0.002466</td>\n",
       "      <td>-0.002170</td>\n",
       "      <td>...</td>\n",
       "      <td>-0.011809</td>\n",
       "      <td>-0.012032</td>\n",
       "      <td>-0.010589</td>\n",
       "      <td>-0.013604</td>\n",
       "      <td>-0.017733</td>\n",
       "      <td>-0.019641</td>\n",
       "      <td>-0.014836</td>\n",
       "      <td>-0.007411</td>\n",
       "      <td>-0.002813</td>\n",
       "      <td>-0.000871</td>\n",
       "    </tr>\n",
       "    <tr>\n",
       "      <th>component 1</th>\n",
       "      <td>0.000851</td>\n",
       "      <td>0.002712</td>\n",
       "      <td>0.003873</td>\n",
       "      <td>0.004866</td>\n",
       "      <td>0.006175</td>\n",
       "      <td>0.006398</td>\n",
       "      <td>0.005370</td>\n",
       "      <td>0.003025</td>\n",
       "      <td>-0.000008</td>\n",
       "      <td>-0.010876</td>\n",
       "      <td>...</td>\n",
       "      <td>-0.042242</td>\n",
       "      <td>-0.029479</td>\n",
       "      <td>-0.015880</td>\n",
       "      <td>0.022523</td>\n",
       "      <td>0.049760</td>\n",
       "      <td>0.053829</td>\n",
       "      <td>0.045636</td>\n",
       "      <td>0.026002</td>\n",
       "      <td>0.014940</td>\n",
       "      <td>0.007351</td>\n",
       "    </tr>\n",
       "    <tr>\n",
       "      <th>component 2</th>\n",
       "      <td>0.002872</td>\n",
       "      <td>0.010437</td>\n",
       "      <td>0.015194</td>\n",
       "      <td>0.017825</td>\n",
       "      <td>0.021191</td>\n",
       "      <td>0.023502</td>\n",
       "      <td>0.025478</td>\n",
       "      <td>0.031763</td>\n",
       "      <td>0.040093</td>\n",
       "      <td>0.042341</td>\n",
       "      <td>...</td>\n",
       "      <td>0.048384</td>\n",
       "      <td>0.059250</td>\n",
       "      <td>0.062512</td>\n",
       "      <td>0.003311</td>\n",
       "      <td>-0.040275</td>\n",
       "      <td>-0.036109</td>\n",
       "      <td>-0.013168</td>\n",
       "      <td>0.013229</td>\n",
       "      <td>0.017077</td>\n",
       "      <td>0.013500</td>\n",
       "    </tr>\n",
       "    <tr>\n",
       "      <th>component 3</th>\n",
       "      <td>0.004161</td>\n",
       "      <td>0.006274</td>\n",
       "      <td>0.007402</td>\n",
       "      <td>0.004852</td>\n",
       "      <td>0.008273</td>\n",
       "      <td>0.009385</td>\n",
       "      <td>0.004229</td>\n",
       "      <td>-0.001991</td>\n",
       "      <td>-0.008106</td>\n",
       "      <td>-0.011663</td>\n",
       "      <td>...</td>\n",
       "      <td>-0.019332</td>\n",
       "      <td>-0.031514</td>\n",
       "      <td>-0.039022</td>\n",
       "      <td>-0.036877</td>\n",
       "      <td>-0.024899</td>\n",
       "      <td>-0.004030</td>\n",
       "      <td>0.022753</td>\n",
       "      <td>0.047529</td>\n",
       "      <td>0.046765</td>\n",
       "      <td>0.031792</td>\n",
       "    </tr>\n",
       "    <tr>\n",
       "      <th>component 4</th>\n",
       "      <td>0.009946</td>\n",
       "      <td>0.017307</td>\n",
       "      <td>0.023796</td>\n",
       "      <td>0.038353</td>\n",
       "      <td>0.039208</td>\n",
       "      <td>0.032954</td>\n",
       "      <td>0.027186</td>\n",
       "      <td>0.017773</td>\n",
       "      <td>0.003482</td>\n",
       "      <td>-0.014989</td>\n",
       "      <td>...</td>\n",
       "      <td>-0.029017</td>\n",
       "      <td>-0.027419</td>\n",
       "      <td>-0.014029</td>\n",
       "      <td>0.040964</td>\n",
       "      <td>0.023774</td>\n",
       "      <td>-0.015748</td>\n",
       "      <td>-0.044488</td>\n",
       "      <td>-0.040201</td>\n",
       "      <td>-0.012357</td>\n",
       "      <td>0.008456</td>\n",
       "    </tr>\n",
       "  </tbody>\n",
       "</table>\n",
       "<p>5 rows × 784 columns</p>\n",
       "</div>"
      ],
      "text/plain": [
       "               pixel1    pixel2    pixel3    pixel4    pixel5    pixel6  \\\n",
       "component 0  0.000253 -0.000658 -0.000285  0.000005  0.000088 -0.000608   \n",
       "component 1  0.000851  0.002712  0.003873  0.004866  0.006175  0.006398   \n",
       "component 2  0.002872  0.010437  0.015194  0.017825  0.021191  0.023502   \n",
       "component 3  0.004161  0.006274  0.007402  0.004852  0.008273  0.009385   \n",
       "component 4  0.009946  0.017307  0.023796  0.038353  0.039208  0.032954   \n",
       "\n",
       "               pixel7    pixel8    pixel9   pixel10  ...  pixel775  pixel776  \\\n",
       "component 0 -0.000290 -0.001027 -0.002466 -0.002170  ... -0.011809 -0.012032   \n",
       "component 1  0.005370  0.003025 -0.000008 -0.010876  ... -0.042242 -0.029479   \n",
       "component 2  0.025478  0.031763  0.040093  0.042341  ...  0.048384  0.059250   \n",
       "component 3  0.004229 -0.001991 -0.008106 -0.011663  ... -0.019332 -0.031514   \n",
       "component 4  0.027186  0.017773  0.003482 -0.014989  ... -0.029017 -0.027419   \n",
       "\n",
       "             pixel777  pixel778  pixel779  pixel780  pixel781  pixel782  \\\n",
       "component 0 -0.010589 -0.013604 -0.017733 -0.019641 -0.014836 -0.007411   \n",
       "component 1 -0.015880  0.022523  0.049760  0.053829  0.045636  0.026002   \n",
       "component 2  0.062512  0.003311 -0.040275 -0.036109 -0.013168  0.013229   \n",
       "component 3 -0.039022 -0.036877 -0.024899 -0.004030  0.022753  0.047529   \n",
       "component 4 -0.014029  0.040964  0.023774 -0.015748 -0.044488 -0.040201   \n",
       "\n",
       "             pixel783  pixel784  \n",
       "component 0 -0.002813 -0.000871  \n",
       "component 1  0.014940  0.007351  \n",
       "component 2  0.017077  0.013500  \n",
       "component 3  0.046765  0.031792  \n",
       "component 4 -0.012357  0.008456  \n",
       "\n",
       "[5 rows x 784 columns]"
      ]
     },
     "execution_count": 9,
     "metadata": {},
     "output_type": "execute_result"
    }
   ],
   "source": [
    "# Importação da função do PCA do sklearn\n",
    "from sklearn.decomposition import PCA\n",
    "\n",
    "# Definindo o número de componentes do PCA\n",
    "n_components = 0.9\n",
    "\n",
    "# Aplicando o PCA\n",
    "pca = PCA(n_components=n_components, copy=True, whiten=False)\n",
    "projected_data = pca.fit_transform(selected_images)\n",
    "\n",
    "# Mostrando os dados projetados com PCA\n",
    "print(\"Dados Projetados com PCA\")\n",
    "print(projected_data)\n",
    "print(\"\\n\")\n",
    "\n",
    "# Segundo: mostrando a matriz de covariância do PCA\n",
    "print(\"Variâncias\")\n",
    "print(pca.explained_variance_ratio_)\n",
    "print(\"\\n\")\n",
    "\n",
    "# Transformando o conjunto de dados em DataFrame para melhor manipulação\n",
    "column_name = [\"pixel\" + str(i) for i in range(1, 785)]\n",
    "selected_images_zscore_frame = pd.DataFrame(selected_images, columns=column_name)\n",
    "\n",
    "# Terceiro: mostrando os componentes do PCA\n",
    "component_names = [\"component {}\".format(i) for i in range(len(pca.components_))]\n",
    "components_pca = pd.DataFrame(\n",
    "    data=pca.components_,\n",
    "    index=component_names,\n",
    "    columns=selected_images_zscore_frame.columns,\n",
    ")\n",
    "components_pca.head()"
   ]
  },
  {
   "cell_type": "markdown",
   "metadata": {},
   "source": [
    "É possível, por exemplo, visualizar a variação do PCA na medida em que se aumentam as características (ou dimensões). A chamada **variância explicada** exprime exatamente a ideia de quanta variabilidade é possível capturar do conjunto de dados, sendo possível, a partir desta análise, levar a um melhor desempenho de treinamento do modelo.\n"
   ]
  },
  {
   "cell_type": "code",
   "execution_count": 10,
   "metadata": {},
   "outputs": [
    {
     "data": {
      "application/vnd.plotly.v1+json": {
       "config": {
        "plotlyServerURL": "https://plot.ly"
       },
       "data": [
        {
         "type": "scatter",
         "x": [
          1,
          2,
          3,
          4,
          5,
          6,
          7,
          8,
          9,
          10,
          11,
          12,
          13,
          14,
          15,
          16,
          17,
          18,
          19,
          20,
          21,
          22,
          23,
          24,
          25,
          26,
          27,
          28,
          29,
          30,
          31,
          32,
          33,
          34,
          35,
          36,
          37,
          38,
          39,
          40,
          41,
          42,
          43,
          44,
          45,
          46,
          47,
          48,
          49,
          50,
          51,
          52,
          53,
          54,
          55,
          56,
          57,
          58,
          59,
          60,
          61,
          62,
          63,
          64,
          65,
          66,
          67,
          68,
          69,
          70,
          71,
          72,
          73,
          74,
          75,
          76,
          77,
          78,
          79,
          80,
          81,
          82,
          83,
          84,
          85,
          86,
          87,
          88,
          89,
          90,
          91,
          92,
          93,
          94,
          95,
          96,
          97,
          98,
          99,
          100,
          101,
          102,
          103,
          104,
          105,
          106,
          107,
          108,
          109,
          110,
          111,
          112,
          113,
          114,
          115,
          116,
          117,
          118,
          119,
          120,
          121,
          122,
          123,
          124,
          125,
          126,
          127,
          128,
          129,
          130
         ],
         "y": [
          24.2,
          36.7,
          43.900000000000006,
          48.60000000000001,
          51.70000000000001,
          54.00000000000001,
          56.00000000000001,
          57.800000000000004,
          59.300000000000004,
          60.6,
          61.800000000000004,
          62.900000000000006,
          63.900000000000006,
          64.80000000000001,
          65.70000000000002,
          66.50000000000001,
          67.20000000000002,
          67.90000000000002,
          68.60000000000002,
          69.20000000000002,
          69.80000000000001,
          70.4,
          71,
          71.5,
          72,
          72.5,
          73,
          73.5,
          73.9,
          74.30000000000001,
          74.70000000000002,
          75.10000000000002,
          75.50000000000003,
          75.90000000000003,
          76.30000000000004,
          76.60000000000004,
          76.90000000000003,
          77.20000000000003,
          77.50000000000003,
          77.80000000000003,
          78.10000000000002,
          78.40000000000002,
          78.70000000000002,
          79.00000000000001,
          79.30000000000001,
          79.60000000000001,
          79.80000000000001,
          80.00000000000001,
          80.20000000000002,
          80.40000000000002,
          80.60000000000002,
          80.80000000000003,
          81.00000000000003,
          81.20000000000003,
          81.40000000000003,
          81.60000000000004,
          81.80000000000004,
          82.00000000000004,
          82.20000000000005,
          82.40000000000005,
          82.60000000000005,
          82.80000000000005,
          83.00000000000006,
          83.20000000000006,
          83.40000000000006,
          83.60000000000007,
          83.80000000000007,
          84.00000000000007,
          84.20000000000007,
          84.30000000000007,
          84.40000000000006,
          84.50000000000006,
          84.60000000000005,
          84.70000000000005,
          84.80000000000004,
          84.90000000000003,
          85.00000000000003,
          85.10000000000002,
          85.20000000000002,
          85.30000000000001,
          85.4,
          85.5,
          85.6,
          85.69999999999999,
          85.79999999999998,
          85.89999999999998,
          85.99999999999997,
          86.09999999999997,
          86.19999999999996,
          86.29999999999995,
          86.39999999999995,
          86.49999999999994,
          86.59999999999994,
          86.69999999999993,
          86.79999999999993,
          86.89999999999992,
          86.99999999999991,
          87.09999999999991,
          87.1999999999999,
          87.2999999999999,
          87.39999999999989,
          87.49999999999989,
          87.59999999999988,
          87.69999999999987,
          87.79999999999987,
          87.89999999999986,
          87.99999999999986,
          88.09999999999985,
          88.19999999999985,
          88.29999999999984,
          88.39999999999984,
          88.49999999999983,
          88.59999999999982,
          88.69999999999982,
          88.79999999999981,
          88.8999999999998,
          88.9999999999998,
          89.0999999999998,
          89.19999999999979,
          89.29999999999978,
          89.39999999999978,
          89.49999999999977,
          89.59999999999977,
          89.69999999999976,
          89.79999999999976,
          89.89999999999975,
          89.99999999999974,
          90.09999999999974,
          90.19999999999973,
          90.29999999999973
         ]
        }
       ],
       "layout": {
        "template": {
         "data": {
          "bar": [
           {
            "error_x": {
             "color": "#2a3f5f"
            },
            "error_y": {
             "color": "#2a3f5f"
            },
            "marker": {
             "line": {
              "color": "#E5ECF6",
              "width": 0.5
             },
             "pattern": {
              "fillmode": "overlay",
              "size": 10,
              "solidity": 0.2
             }
            },
            "type": "bar"
           }
          ],
          "barpolar": [
           {
            "marker": {
             "line": {
              "color": "#E5ECF6",
              "width": 0.5
             },
             "pattern": {
              "fillmode": "overlay",
              "size": 10,
              "solidity": 0.2
             }
            },
            "type": "barpolar"
           }
          ],
          "carpet": [
           {
            "aaxis": {
             "endlinecolor": "#2a3f5f",
             "gridcolor": "white",
             "linecolor": "white",
             "minorgridcolor": "white",
             "startlinecolor": "#2a3f5f"
            },
            "baxis": {
             "endlinecolor": "#2a3f5f",
             "gridcolor": "white",
             "linecolor": "white",
             "minorgridcolor": "white",
             "startlinecolor": "#2a3f5f"
            },
            "type": "carpet"
           }
          ],
          "choropleth": [
           {
            "colorbar": {
             "outlinewidth": 0,
             "ticks": ""
            },
            "type": "choropleth"
           }
          ],
          "contour": [
           {
            "colorbar": {
             "outlinewidth": 0,
             "ticks": ""
            },
            "colorscale": [
             [
              0,
              "#0d0887"
             ],
             [
              0.1111111111111111,
              "#46039f"
             ],
             [
              0.2222222222222222,
              "#7201a8"
             ],
             [
              0.3333333333333333,
              "#9c179e"
             ],
             [
              0.4444444444444444,
              "#bd3786"
             ],
             [
              0.5555555555555556,
              "#d8576b"
             ],
             [
              0.6666666666666666,
              "#ed7953"
             ],
             [
              0.7777777777777778,
              "#fb9f3a"
             ],
             [
              0.8888888888888888,
              "#fdca26"
             ],
             [
              1,
              "#f0f921"
             ]
            ],
            "type": "contour"
           }
          ],
          "contourcarpet": [
           {
            "colorbar": {
             "outlinewidth": 0,
             "ticks": ""
            },
            "type": "contourcarpet"
           }
          ],
          "heatmap": [
           {
            "colorbar": {
             "outlinewidth": 0,
             "ticks": ""
            },
            "colorscale": [
             [
              0,
              "#0d0887"
             ],
             [
              0.1111111111111111,
              "#46039f"
             ],
             [
              0.2222222222222222,
              "#7201a8"
             ],
             [
              0.3333333333333333,
              "#9c179e"
             ],
             [
              0.4444444444444444,
              "#bd3786"
             ],
             [
              0.5555555555555556,
              "#d8576b"
             ],
             [
              0.6666666666666666,
              "#ed7953"
             ],
             [
              0.7777777777777778,
              "#fb9f3a"
             ],
             [
              0.8888888888888888,
              "#fdca26"
             ],
             [
              1,
              "#f0f921"
             ]
            ],
            "type": "heatmap"
           }
          ],
          "heatmapgl": [
           {
            "colorbar": {
             "outlinewidth": 0,
             "ticks": ""
            },
            "colorscale": [
             [
              0,
              "#0d0887"
             ],
             [
              0.1111111111111111,
              "#46039f"
             ],
             [
              0.2222222222222222,
              "#7201a8"
             ],
             [
              0.3333333333333333,
              "#9c179e"
             ],
             [
              0.4444444444444444,
              "#bd3786"
             ],
             [
              0.5555555555555556,
              "#d8576b"
             ],
             [
              0.6666666666666666,
              "#ed7953"
             ],
             [
              0.7777777777777778,
              "#fb9f3a"
             ],
             [
              0.8888888888888888,
              "#fdca26"
             ],
             [
              1,
              "#f0f921"
             ]
            ],
            "type": "heatmapgl"
           }
          ],
          "histogram": [
           {
            "marker": {
             "pattern": {
              "fillmode": "overlay",
              "size": 10,
              "solidity": 0.2
             }
            },
            "type": "histogram"
           }
          ],
          "histogram2d": [
           {
            "colorbar": {
             "outlinewidth": 0,
             "ticks": ""
            },
            "colorscale": [
             [
              0,
              "#0d0887"
             ],
             [
              0.1111111111111111,
              "#46039f"
             ],
             [
              0.2222222222222222,
              "#7201a8"
             ],
             [
              0.3333333333333333,
              "#9c179e"
             ],
             [
              0.4444444444444444,
              "#bd3786"
             ],
             [
              0.5555555555555556,
              "#d8576b"
             ],
             [
              0.6666666666666666,
              "#ed7953"
             ],
             [
              0.7777777777777778,
              "#fb9f3a"
             ],
             [
              0.8888888888888888,
              "#fdca26"
             ],
             [
              1,
              "#f0f921"
             ]
            ],
            "type": "histogram2d"
           }
          ],
          "histogram2dcontour": [
           {
            "colorbar": {
             "outlinewidth": 0,
             "ticks": ""
            },
            "colorscale": [
             [
              0,
              "#0d0887"
             ],
             [
              0.1111111111111111,
              "#46039f"
             ],
             [
              0.2222222222222222,
              "#7201a8"
             ],
             [
              0.3333333333333333,
              "#9c179e"
             ],
             [
              0.4444444444444444,
              "#bd3786"
             ],
             [
              0.5555555555555556,
              "#d8576b"
             ],
             [
              0.6666666666666666,
              "#ed7953"
             ],
             [
              0.7777777777777778,
              "#fb9f3a"
             ],
             [
              0.8888888888888888,
              "#fdca26"
             ],
             [
              1,
              "#f0f921"
             ]
            ],
            "type": "histogram2dcontour"
           }
          ],
          "mesh3d": [
           {
            "colorbar": {
             "outlinewidth": 0,
             "ticks": ""
            },
            "type": "mesh3d"
           }
          ],
          "parcoords": [
           {
            "line": {
             "colorbar": {
              "outlinewidth": 0,
              "ticks": ""
             }
            },
            "type": "parcoords"
           }
          ],
          "pie": [
           {
            "automargin": true,
            "type": "pie"
           }
          ],
          "scatter": [
           {
            "fillpattern": {
             "fillmode": "overlay",
             "size": 10,
             "solidity": 0.2
            },
            "type": "scatter"
           }
          ],
          "scatter3d": [
           {
            "line": {
             "colorbar": {
              "outlinewidth": 0,
              "ticks": ""
             }
            },
            "marker": {
             "colorbar": {
              "outlinewidth": 0,
              "ticks": ""
             }
            },
            "type": "scatter3d"
           }
          ],
          "scattercarpet": [
           {
            "marker": {
             "colorbar": {
              "outlinewidth": 0,
              "ticks": ""
             }
            },
            "type": "scattercarpet"
           }
          ],
          "scattergeo": [
           {
            "marker": {
             "colorbar": {
              "outlinewidth": 0,
              "ticks": ""
             }
            },
            "type": "scattergeo"
           }
          ],
          "scattergl": [
           {
            "marker": {
             "colorbar": {
              "outlinewidth": 0,
              "ticks": ""
             }
            },
            "type": "scattergl"
           }
          ],
          "scattermapbox": [
           {
            "marker": {
             "colorbar": {
              "outlinewidth": 0,
              "ticks": ""
             }
            },
            "type": "scattermapbox"
           }
          ],
          "scatterpolar": [
           {
            "marker": {
             "colorbar": {
              "outlinewidth": 0,
              "ticks": ""
             }
            },
            "type": "scatterpolar"
           }
          ],
          "scatterpolargl": [
           {
            "marker": {
             "colorbar": {
              "outlinewidth": 0,
              "ticks": ""
             }
            },
            "type": "scatterpolargl"
           }
          ],
          "scatterternary": [
           {
            "marker": {
             "colorbar": {
              "outlinewidth": 0,
              "ticks": ""
             }
            },
            "type": "scatterternary"
           }
          ],
          "surface": [
           {
            "colorbar": {
             "outlinewidth": 0,
             "ticks": ""
            },
            "colorscale": [
             [
              0,
              "#0d0887"
             ],
             [
              0.1111111111111111,
              "#46039f"
             ],
             [
              0.2222222222222222,
              "#7201a8"
             ],
             [
              0.3333333333333333,
              "#9c179e"
             ],
             [
              0.4444444444444444,
              "#bd3786"
             ],
             [
              0.5555555555555556,
              "#d8576b"
             ],
             [
              0.6666666666666666,
              "#ed7953"
             ],
             [
              0.7777777777777778,
              "#fb9f3a"
             ],
             [
              0.8888888888888888,
              "#fdca26"
             ],
             [
              1,
              "#f0f921"
             ]
            ],
            "type": "surface"
           }
          ],
          "table": [
           {
            "cells": {
             "fill": {
              "color": "#EBF0F8"
             },
             "line": {
              "color": "white"
             }
            },
            "header": {
             "fill": {
              "color": "#C8D4E3"
             },
             "line": {
              "color": "white"
             }
            },
            "type": "table"
           }
          ]
         },
         "layout": {
          "annotationdefaults": {
           "arrowcolor": "#2a3f5f",
           "arrowhead": 0,
           "arrowwidth": 1
          },
          "autotypenumbers": "strict",
          "coloraxis": {
           "colorbar": {
            "outlinewidth": 0,
            "ticks": ""
           }
          },
          "colorscale": {
           "diverging": [
            [
             0,
             "#8e0152"
            ],
            [
             0.1,
             "#c51b7d"
            ],
            [
             0.2,
             "#de77ae"
            ],
            [
             0.3,
             "#f1b6da"
            ],
            [
             0.4,
             "#fde0ef"
            ],
            [
             0.5,
             "#f7f7f7"
            ],
            [
             0.6,
             "#e6f5d0"
            ],
            [
             0.7,
             "#b8e186"
            ],
            [
             0.8,
             "#7fbc41"
            ],
            [
             0.9,
             "#4d9221"
            ],
            [
             1,
             "#276419"
            ]
           ],
           "sequential": [
            [
             0,
             "#0d0887"
            ],
            [
             0.1111111111111111,
             "#46039f"
            ],
            [
             0.2222222222222222,
             "#7201a8"
            ],
            [
             0.3333333333333333,
             "#9c179e"
            ],
            [
             0.4444444444444444,
             "#bd3786"
            ],
            [
             0.5555555555555556,
             "#d8576b"
            ],
            [
             0.6666666666666666,
             "#ed7953"
            ],
            [
             0.7777777777777778,
             "#fb9f3a"
            ],
            [
             0.8888888888888888,
             "#fdca26"
            ],
            [
             1,
             "#f0f921"
            ]
           ],
           "sequentialminus": [
            [
             0,
             "#0d0887"
            ],
            [
             0.1111111111111111,
             "#46039f"
            ],
            [
             0.2222222222222222,
             "#7201a8"
            ],
            [
             0.3333333333333333,
             "#9c179e"
            ],
            [
             0.4444444444444444,
             "#bd3786"
            ],
            [
             0.5555555555555556,
             "#d8576b"
            ],
            [
             0.6666666666666666,
             "#ed7953"
            ],
            [
             0.7777777777777778,
             "#fb9f3a"
            ],
            [
             0.8888888888888888,
             "#fdca26"
            ],
            [
             1,
             "#f0f921"
            ]
           ]
          },
          "colorway": [
           "#636efa",
           "#EF553B",
           "#00cc96",
           "#ab63fa",
           "#FFA15A",
           "#19d3f3",
           "#FF6692",
           "#B6E880",
           "#FF97FF",
           "#FECB52"
          ],
          "font": {
           "color": "#2a3f5f"
          },
          "geo": {
           "bgcolor": "white",
           "lakecolor": "white",
           "landcolor": "#E5ECF6",
           "showlakes": true,
           "showland": true,
           "subunitcolor": "white"
          },
          "hoverlabel": {
           "align": "left"
          },
          "hovermode": "closest",
          "mapbox": {
           "style": "light"
          },
          "paper_bgcolor": "white",
          "plot_bgcolor": "#E5ECF6",
          "polar": {
           "angularaxis": {
            "gridcolor": "white",
            "linecolor": "white",
            "ticks": ""
           },
           "bgcolor": "#E5ECF6",
           "radialaxis": {
            "gridcolor": "white",
            "linecolor": "white",
            "ticks": ""
           }
          },
          "scene": {
           "xaxis": {
            "backgroundcolor": "#E5ECF6",
            "gridcolor": "white",
            "gridwidth": 2,
            "linecolor": "white",
            "showbackground": true,
            "ticks": "",
            "zerolinecolor": "white"
           },
           "yaxis": {
            "backgroundcolor": "#E5ECF6",
            "gridcolor": "white",
            "gridwidth": 2,
            "linecolor": "white",
            "showbackground": true,
            "ticks": "",
            "zerolinecolor": "white"
           },
           "zaxis": {
            "backgroundcolor": "#E5ECF6",
            "gridcolor": "white",
            "gridwidth": 2,
            "linecolor": "white",
            "showbackground": true,
            "ticks": "",
            "zerolinecolor": "white"
           }
          },
          "shapedefaults": {
           "line": {
            "color": "#2a3f5f"
           }
          },
          "ternary": {
           "aaxis": {
            "gridcolor": "white",
            "linecolor": "white",
            "ticks": ""
           },
           "baxis": {
            "gridcolor": "white",
            "linecolor": "white",
            "ticks": ""
           },
           "bgcolor": "#E5ECF6",
           "caxis": {
            "gridcolor": "white",
            "linecolor": "white",
            "ticks": ""
           }
          },
          "title": {
           "x": 0.05
          },
          "xaxis": {
           "automargin": true,
           "gridcolor": "white",
           "linecolor": "white",
           "ticks": "",
           "title": {
            "standoff": 15
           },
           "zerolinecolor": "white",
           "zerolinewidth": 2
          },
          "yaxis": {
           "automargin": true,
           "gridcolor": "white",
           "linecolor": "white",
           "ticks": "",
           "title": {
            "standoff": 15
           },
           "zerolinecolor": "white",
           "zerolinewidth": 2
          }
         }
        },
        "title": {
         "text": "Variância Explicada do PCA"
        },
        "xaxis": {
         "title": {
          "text": "# de Características"
         }
        },
        "yaxis": {
         "title": {
          "text": "% Variância Explicada"
         }
        }
       }
      }
     },
     "metadata": {},
     "output_type": "display_data"
    }
   ],
   "source": [
    "import plotly.graph_objects as px_go\n",
    "\n",
    "# Gráfico da variância do PCA, a partir dos componentes\n",
    "# exp_var_cum = np.cumsum(pca.explained_variance_ratio_)\n",
    "exp_var_cum = np.cumsum(np.round(pca.explained_variance_ratio_, decimals=3) * 100)\n",
    "\n",
    "fig_pca = px_go.Figure(\n",
    "    data=px_go.Scatter(x=list(range(1, len(exp_var_cum) + 1)), y=exp_var_cum)\n",
    ")\n",
    "fig_pca.update_layout(\n",
    "    title=\"Variância Explicada do PCA\",\n",
    "    xaxis_title=\"# de Características\",\n",
    "    yaxis_title=\"% Variância Explicada\",\n",
    ")"
   ]
  },
  {
   "cell_type": "markdown",
   "metadata": {},
   "source": [
    "---\n"
   ]
  },
  {
   "cell_type": "markdown",
   "metadata": {},
   "source": [
    "## **Classificação**\n"
   ]
  },
  {
   "cell_type": "markdown",
   "metadata": {},
   "source": [
    "Uma das características dos _datasets MNIST_ é de terem pixels bem diferenciados entre si e, portanto, é possível aplicar os classificadores sem a necessidade de uma extração prévia de características, como por meio das técnicas de extração de texturas como os **Descritores de Haralick** ou do **_Local Binary Pattern_**.\n",
    "\n",
    "Para treinar o modelo e validar os dados, será utilizado a técnica de **_cross-validation_**. Nesta técnica, os dados são separados entre um conjunto de treinamento e um de teste. O de treinamento, como o nome sugere, serve para o classificador realizar predições e \"aprender\" as diferentes classes. Já o de teste é utilizado para verificar o quanto o classificador \"pode aprender\" com o treinamento, ou seja, são feitas predições das classes neste conjunto.\n",
    "\n",
    "Para isso, é realizado a separação de 80% do conjunto total para treinamento e 20% para conjunto de teste.\n"
   ]
  },
  {
   "cell_type": "code",
   "execution_count": 11,
   "metadata": {},
   "outputs": [
    {
     "name": "stdout",
     "output_type": "stream",
     "text": [
      "Conjunto de Treinamento\n",
      " [[-0.01225947 -0.03279824 -0.04745495 ... -0.12940089 -0.06094292\n",
      "  -0.02434329]\n",
      " [-0.01225947 -0.03279824 -0.04745495 ... -0.12940089 -0.06094292\n",
      "  -0.02434329]\n",
      " [-0.01225947 -0.03279824 -0.04745495 ... -0.12940089 -0.06094292\n",
      "  -0.02434329]\n",
      " ...\n",
      " [-0.01225947 -0.03279824 -0.04745495 ... -0.04889194 -0.06094292\n",
      "  -0.02434329]\n",
      " [-0.01225947 -0.03279824 -0.04745495 ... -0.12940089 -0.06094292\n",
      "  -0.02434329]\n",
      " [-0.01225947 -0.03279824 -0.04745495 ... -0.12940089 -0.06094292\n",
      "  -0.02434329]]\n",
      "Rótulos de Treinamento\n",
      " [0 1 3 ... 3 3 2]\n",
      "Quantidade de Dados de Treinamento:  22400\n",
      "\n",
      "Conjunto de Teste\n",
      " [[-0.01225947 -0.03279824 -0.04745495 ... -0.12940089 -0.06094292\n",
      "  -0.02434329]\n",
      " [-0.01225947 -0.03279824 -0.04745495 ... -0.12940089 -0.06094292\n",
      "  -0.02434329]\n",
      " [-0.01225947 -0.03279824 -0.04745495 ...  0.51467075 -0.06094292\n",
      "  -0.02434329]\n",
      " ...\n",
      " [-0.01225947 -0.03279824 -0.04745495 ... -0.12940089 -0.06094292\n",
      "  -0.02434329]\n",
      " [-0.01225947 -0.03279824 -0.04745495 ... -0.12940089 -0.06094292\n",
      "  -0.02434329]\n",
      " [-0.01225947 -0.03279824 -0.04745495 ... -0.12940089 -0.06094292\n",
      "  -0.02434329]]\n",
      "Rótulos de Teste\n",
      " [1 1 2 ... 1 3 1]\n",
      "Quantidade de Dados de Teste:  5600\n"
     ]
    }
   ],
   "source": [
    "# Função para separação dos conjuntos\n",
    "from sklearn.model_selection import train_test_split\n",
    "\n",
    "# Divisão dos conjuntos de treinamento e teste\n",
    "X_train, X_test, y_train, y_test = train_test_split(\n",
    "    selected_images, selected_targets, test_size=0.2, random_state=42\n",
    ")\n",
    "\n",
    "print(\"Conjunto de Treinamento\\n\", X_train)\n",
    "print(\"Rótulos de Treinamento\\n\", y_train)\n",
    "print(\"Quantidade de Dados de Treinamento: \", X_train.shape[0])\n",
    "print()\n",
    "print(\"Conjunto de Teste\\n\", X_test)\n",
    "print(\"Rótulos de Teste\\n\", y_test)\n",
    "print(\"Quantidade de Dados de Teste: \", X_test.shape[0])"
   ]
  },
  {
   "cell_type": "markdown",
   "metadata": {},
   "source": [
    "### _Decision Trees_\n"
   ]
  },
  {
   "cell_type": "markdown",
   "metadata": {},
   "source": [
    "As Árvores de Decisão são modelos de aprendizado de máquina supervisionado que representam decisões e suas consequências diretas, em forma de árvore. Neste modelo, cada nó interno representa um teste em um atributo, cada ramo representa um resultado do teste e cada nó folha representa uma classe. Por conta disso, as Árvores de Decisão são altamente interpretáveis, capazes de lidar com dados categóricos e numéricos, ainda que possam ser propensas ao _overfitting_ se não ajustadas corretamente.\n",
    "\n",
    "Desta forma, para aplicar a Árvore de Decisão para o _dataset_ proposto basta realizar as seguintes etapas a seguir.\n"
   ]
  },
  {
   "cell_type": "code",
   "execution_count": 11,
   "metadata": {},
   "outputs": [
    {
     "name": "stdout",
     "output_type": "stream",
     "text": [
      "Acurácia: 0.76\n"
     ]
    }
   ],
   "source": [
    "# Métricas para análise de desempenho\n",
    "from sklearn.metrics import (\n",
    "    accuracy_score,\n",
    "    classification_report,\n",
    "    confusion_matrix,\n",
    "    ConfusionMatrixDisplay,\n",
    "    precision_score,\n",
    "    recall_score,\n",
    "    f1_score,\n",
    ")\n",
    "\n",
    "# Decision Tree para Classificação\n",
    "from sklearn.tree import DecisionTreeClassifier\n",
    "\n",
    "# Definindo hiperparâmetros\n",
    "max_depth = 100\n",
    "\n",
    "# Criando a estrutura básica\n",
    "dec_tree = DecisionTreeClassifier(max_depth=max_depth, random_state=42)\n",
    "\n",
    "# Realizando o treinamento\n",
    "dec_tree.fit(X=X_train, y=y_train)\n",
    "\n",
    "# Realizando a predição no conjunto de teste\n",
    "y_pred = dec_tree.predict(X=X_test)\n",
    "\n",
    "# Mostrando a acurácia obtida\n",
    "dec_tree_accuracy = accuracy_score(y_test, y_pred)\n",
    "print(f\"Acurácia: {dec_tree_accuracy:.2f}\")"
   ]
  },
  {
   "cell_type": "markdown",
   "metadata": {},
   "source": [
    "Como é possível visualizar, a Árvore de Decisão com **100 nós de profundidade máxima** conseguiu obter **76% de acurácia geral para classificação do conjunto de teste**. Além da acurácia, é possível visualizar o relatório completo abaixo.\n"
   ]
  },
  {
   "cell_type": "code",
   "execution_count": 12,
   "metadata": {},
   "outputs": [
    {
     "name": "stdout",
     "output_type": "stream",
     "text": [
      "\n",
      "Relatório de Classificação:\n",
      "              precision    recall  f1-score   support\n",
      "\n",
      "    Camiseta       0.76      0.77      0.76      1429\n",
      "     Vestido       0.86      0.85      0.85      1370\n",
      "      Casaco       0.81      0.79      0.80      1420\n",
      "      Camisa       0.63      0.64      0.63      1381\n",
      "\n",
      "    accuracy                           0.76      5600\n",
      "   macro avg       0.76      0.76      0.76      5600\n",
      "weighted avg       0.76      0.76      0.76      5600\n",
      "\n"
     ]
    }
   ],
   "source": [
    "# Mostrando o relatório completo de classificação\n",
    "print(\"\\nRelatório de Classificação:\")\n",
    "print(classification_report(y_test, y_pred, target_names=labels_names))"
   ]
  },
  {
   "cell_type": "markdown",
   "metadata": {},
   "source": [
    "Outra importante métrica é a matriz de confusão. Essa métrica nada mais é do que uma tabela que compara as previsões do modelo com os valores reais dos dados. Nela, são mostrados quantos exemplos de cada classe foram classificados corretamente (verdadeiros positivos e verdadeiros negativos) e quantos foram classificados de forma incorreta (falsos positivos e falsos negativos).\n",
    "\n",
    "A seguir, é possível visualizar a matriz de confusão e o respectivo mapa de calor.\n"
   ]
  },
  {
   "cell_type": "code",
   "execution_count": 13,
   "metadata": {},
   "outputs": [
    {
     "name": "stdout",
     "output_type": "stream",
     "text": [
      "Matriz de Confusão:\n",
      "\n",
      "[[1097   66   21  245]\n",
      " [  67 1167   70   66]\n",
      " [  22   74 1121  203]\n",
      " [ 264   56  180  881]]\n"
     ]
    },
    {
     "data": {
      "image/png": "[encoded data removed]",
      "text/plain": [
       "<Figure size 640x480 with 2 Axes>"
      ]
     },
     "metadata": {},
     "output_type": "display_data"
    }
   ],
   "source": [
    "# Criando e mostrando a matriz de confusão com relação ao conj. de teste\n",
    "print(\"Matriz de Confusão:\\n\")\n",
    "print(confusion_matrix(y_test, y_pred))\n",
    "dec_tree_cm_disp = ConfusionMatrixDisplay.from_predictions(\n",
    "    y_test, y_pred, display_labels=labels_names, cmap=\"Blues\"\n",
    ").figure_.suptitle(\"Matriz de Confusão\")"
   ]
  },
  {
   "cell_type": "markdown",
   "metadata": {},
   "source": [
    "### _Bagging_\n"
   ]
  },
  {
   "cell_type": "markdown",
   "metadata": {},
   "source": [
    "O _Bagging_ consiste em uma técnica de _ensemble learning_ em que visa melhorar a precisão e reduzir a ocorrência de _overfitting_ de determinado modelo. Para tanto, nesta técnica são construídos vários modelos independentes, utilizando subconjuntos aleatórios do conjunto original (com reposição) e, após isso, é agregado suas previsões para a tomada de decisão final. Em outras palavras e tomando como exemplo a Árvore de Decisão, seriam aplicados várias Árvores de Decisão independente para subconjuntos do conjunto de treinamento e, a partir do resultado final, haveria a combinação de todos os modelos. No caso da classificação, a classe mais frequente entre as previsões obtidas das Árvores de Decisão seria a escolhida no final do processo.\n",
    "\n",
    "Desta forma, para aplicar o _Bagging com Árvore de Decisão_ para o _dataset_ proposto basta realizar as seguintes etapas a seguir.\n"
   ]
  },
  {
   "cell_type": "code",
   "execution_count": 14,
   "metadata": {},
   "outputs": [
    {
     "name": "stdout",
     "output_type": "stream",
     "text": [
      "Acurácia: 0.82\n"
     ]
    }
   ],
   "source": [
    "# Métricas para análise de desempenho\n",
    "from sklearn.metrics import (\n",
    "    accuracy_score,\n",
    "    classification_report,\n",
    "    confusion_matrix,\n",
    "    ConfusionMatrixDisplay,\n",
    "    precision_score,\n",
    "    recall_score,\n",
    "    f1_score,\n",
    ")\n",
    "\n",
    "# Bagging para Classificação juntamente com a Decision Tree\n",
    "from sklearn.ensemble import BaggingClassifier\n",
    "from sklearn.tree import DecisionTreeClassifier\n",
    "\n",
    "# Definindo hiperparâmetros do Bagging\n",
    "max_samples = 0.6\n",
    "max_features = 0.6\n",
    "\n",
    "# Definindo hiperparâmetros da Árvore de Decisão\n",
    "max_depth = 100\n",
    "\n",
    "# Criando a estrutura básica\n",
    "bagging = BaggingClassifier(\n",
    "    estimator=DecisionTreeClassifier(max_depth=max_depth, random_state=42),\n",
    "    max_samples=max_samples,\n",
    "    max_features=max_features,\n",
    "    random_state=42,\n",
    ")\n",
    "\n",
    "# Realizando o treinamento\n",
    "bagging.fit(X=X_train, y=y_train)\n",
    "\n",
    "# Realizando a predição no conjunto de teste\n",
    "y_pred = bagging.predict(X=X_test)\n",
    "\n",
    "# Mostrando a acurácia obtida\n",
    "bagging_accuracy = accuracy_score(y_test, y_pred)\n",
    "print(f\"Acurácia: {bagging_accuracy:.2f}\")"
   ]
  },
  {
   "cell_type": "markdown",
   "metadata": {},
   "source": [
    "Como é possível visualizar, o _Bagging com Árvore de Decisão_, utilizando **60% de amostras máximas** e **60% de características máximas**, conseguiu obter **82% de acurácia geral para classificação do conjunto de teste**. Além da acurácia, é possível visualizar o relatório completo abaixo.\n"
   ]
  },
  {
   "cell_type": "code",
   "execution_count": 15,
   "metadata": {},
   "outputs": [
    {
     "name": "stdout",
     "output_type": "stream",
     "text": [
      "\n",
      "Relatório de Classificação:\n",
      "              precision    recall  f1-score   support\n",
      "\n",
      "    Camiseta       0.80      0.86      0.83      1429\n",
      "     Vestido       0.89      0.91      0.90      1370\n",
      "      Casaco       0.83      0.86      0.85      1420\n",
      "      Camisa       0.75      0.65      0.69      1381\n",
      "\n",
      "    accuracy                           0.82      5600\n",
      "   macro avg       0.82      0.82      0.82      5600\n",
      "weighted avg       0.82      0.82      0.82      5600\n",
      "\n"
     ]
    }
   ],
   "source": [
    "# Mostrando o relatório completo de classificação\n",
    "print(\"\\nRelatório de Classificação:\")\n",
    "print(classification_report(y_test, y_pred, target_names=labels_names))"
   ]
  },
  {
   "cell_type": "markdown",
   "metadata": {},
   "source": [
    "A seguir, é possível visualizar a matriz de confusão e o respectivo mapa de calor.\n"
   ]
  },
  {
   "cell_type": "code",
   "execution_count": 16,
   "metadata": {},
   "outputs": [
    {
     "name": "stdout",
     "output_type": "stream",
     "text": [
      "Matriz de Confusão:\n",
      "\n",
      "[[1224   55   16  134]\n",
      " [  33 1247   45   45]\n",
      " [   9   61 1226  124]\n",
      " [ 257   45  188  891]]\n"
     ]
    },
    {
     "data": {
      "image/png": "[encoded data removed]",
      "text/plain": [
       "<Figure size 640x480 with 2 Axes>"
      ]
     },
     "metadata": {},
     "output_type": "display_data"
    }
   ],
   "source": [
    "# Criando e mostrando a matriz de confusão com relação ao conj. de teste\n",
    "print(\"Matriz de Confusão:\\n\")\n",
    "print(confusion_matrix(y_test, y_pred))\n",
    "bagging_cm_disp = ConfusionMatrixDisplay.from_predictions(\n",
    "    y_test, y_pred, display_labels=labels_names, cmap=\"Blues\"\n",
    ").figure_.suptitle(\"Matriz de Confusão\")"
   ]
  },
  {
   "cell_type": "markdown",
   "metadata": {},
   "source": [
    "### _AdaBoost_\n"
   ]
  },
  {
   "cell_type": "markdown",
   "metadata": {},
   "source": [
    "Diferentemente do _Bagging_, o _Boosting_ é uma técnica de _ensemble learning_ que combina múltiplos modelos fracos para a criação de um modelo forte. Neste caso, os modelos são treinados sequencialmente e, desta forma, cada modelo tenta corrigir os erros do modelo anterior. A ideia é de que as classes \"mal classificadas\" recebam um peso maior a cada iteração e modelo. O _Adaptative Boosting_, ou _AdaBoost_, é um algoritmo de _Boosting_ que é particularmente eficaz em problemas de classificação binária, se destacando nas classes de \"difícil previsão\" de modelos normais.\n",
    "\n",
    "Desta forma, para aplicar o _AdaBoost com Árvore de Decisão_ para o _dataset_ proposto basta realizar as seguintes etapas a seguir.\n"
   ]
  },
  {
   "cell_type": "code",
   "execution_count": 17,
   "metadata": {},
   "outputs": [
    {
     "name": "stdout",
     "output_type": "stream",
     "text": [
      "Acurácia: 0.77\n"
     ]
    }
   ],
   "source": [
    "# Métricas para análise de desempenho\n",
    "from sklearn.metrics import (\n",
    "    accuracy_score,\n",
    "    classification_report,\n",
    "    confusion_matrix,\n",
    "    ConfusionMatrixDisplay,\n",
    "    precision_score,\n",
    "    recall_score,\n",
    "    f1_score,\n",
    ")\n",
    "\n",
    "# AdaBoost para Classificação, com Decision Tree\n",
    "from sklearn.ensemble import AdaBoostClassifier\n",
    "from sklearn.tree import DecisionTreeClassifier\n",
    "\n",
    "# Definindo hiperparâmetros do AdaBoost\n",
    "n_estimators = 100\n",
    "\n",
    "# Definindo hiperparâmetros da Árvore de Decisão\n",
    "max_depth = 100\n",
    "\n",
    "# Criando a estrutura básica\n",
    "ada_boost = AdaBoostClassifier(\n",
    "    estimator=DecisionTreeClassifier(max_depth=max_depth, random_state=42),\n",
    "    n_estimators=n_estimators,\n",
    "    random_state=42,\n",
    ")\n",
    "\n",
    "# Realizando o treinamento\n",
    "ada_boost.fit(X=X_train, y=y_train)\n",
    "\n",
    "# Realizando a predição no conjunto de teste\n",
    "y_pred = ada_boost.predict(X=X_test)\n",
    "\n",
    "# Mostrando a acurácia obtida\n",
    "ada_boost_accuracy = accuracy_score(y_test, y_pred)\n",
    "print(f\"Acurácia: {ada_boost_accuracy:.2f}\")"
   ]
  },
  {
   "cell_type": "markdown",
   "metadata": {},
   "source": [
    "Como é possível visualizar, o _AdaBoost com Árvore de Decisão_ utilizando **100 estimadores** conseguiu obter **77% de acurácia geral para classificação do conjunto de teste**. Além da acurácia, é possível visualizar o relatório completo abaixo.\n"
   ]
  },
  {
   "cell_type": "code",
   "execution_count": 18,
   "metadata": {},
   "outputs": [
    {
     "name": "stdout",
     "output_type": "stream",
     "text": [
      "\n",
      "Relatório de Classificação:\n",
      "              precision    recall  f1-score   support\n",
      "\n",
      "    Camiseta       0.77      0.77      0.77      1429\n",
      "     Vestido       0.85      0.85      0.85      1370\n",
      "      Casaco       0.80      0.79      0.80      1420\n",
      "      Camisa       0.64      0.65      0.64      1381\n",
      "\n",
      "    accuracy                           0.77      5600\n",
      "   macro avg       0.77      0.77      0.77      5600\n",
      "weighted avg       0.77      0.77      0.77      5600\n",
      "\n"
     ]
    }
   ],
   "source": [
    "# Mostrando o relatório completo de classificação\n",
    "print(\"\\nRelatório de Classificação:\")\n",
    "print(classification_report(y_test, y_pred, target_names=labels_names))"
   ]
  },
  {
   "cell_type": "markdown",
   "metadata": {},
   "source": [
    "A seguir, é possível visualizar a matriz de confusão e o respectivo mapa de calor.\n"
   ]
  },
  {
   "cell_type": "code",
   "execution_count": 19,
   "metadata": {},
   "outputs": [
    {
     "name": "stdout",
     "output_type": "stream",
     "text": [
      "Matriz de Confusão:\n",
      "\n",
      "[[1101   69   18  241]\n",
      " [  61 1164   78   67]\n",
      " [  17   75 1128  200]\n",
      " [ 248   58  178  897]]\n"
     ]
    },
    {
     "data": {
      "image/png": "[encoded data removed]",
      "text/plain": [
       "<Figure size 640x480 with 2 Axes>"
      ]
     },
     "metadata": {},
     "output_type": "display_data"
    }
   ],
   "source": [
    "# Criando e mostrando a matriz de confusão com relação ao conj. de teste\n",
    "print(\"Matriz de Confusão:\\n\")\n",
    "print(confusion_matrix(y_test, y_pred))\n",
    "ada_boost_cm_disp = ConfusionMatrixDisplay.from_predictions(\n",
    "    y_test, y_pred, display_labels=labels_names, cmap=\"Blues\"\n",
    ").figure_.suptitle(\"Matriz de Confusão\")"
   ]
  },
  {
   "cell_type": "markdown",
   "metadata": {},
   "source": [
    "### _Random Forest_\n"
   ]
  },
  {
   "cell_type": "markdown",
   "metadata": {},
   "source": [
    "O _Random Forest_ é um algoritmo de _ensemble learning_ que combina **múltiplas Árvores de Decisão** para melhorar a tomada de decisões. Nesta técnica, cada Árvore de Decisão é treinada em diferentes subconjuntos do conjunto de dados original. A principal diferença desta para com o uso de _Bagging com Árvore de Decisão_ está em que o _Random Forest_, durante o treinamento, seleciona aleatoriamente os subconjuntos de dados para cada divisão de nó. Em outras palavras, enquanto que no _Bagging_ para cada divisão em um nó da árvore **todos** os atributos são considerados, no _Random Forest_ para cada divisão de nó é levado em consideração diferentes conjuntos de atributos. Por conta disso, o _Random Forest_ reduz ainda mais a correlação entre as Árvores de Decisão, geralmente levando a modelos mais robustos e precisos.\n",
    "\n",
    "Desta forma, para aplicar o _Random Forest_ para o _dataset_ proposto basta realizar as seguintes etapas a seguir.\n"
   ]
  },
  {
   "cell_type": "code",
   "execution_count": 20,
   "metadata": {},
   "outputs": [
    {
     "name": "stdout",
     "output_type": "stream",
     "text": [
      "Acurácia: 0.85\n"
     ]
    }
   ],
   "source": [
    "# Métricas para análise de desempenho\n",
    "from sklearn.metrics import (\n",
    "    accuracy_score,\n",
    "    classification_report,\n",
    "    confusion_matrix,\n",
    "    ConfusionMatrixDisplay,\n",
    "    precision_score,\n",
    "    recall_score,\n",
    "    f1_score,\n",
    ")\n",
    "\n",
    "# Random Forest para Classificação\n",
    "from sklearn.ensemble import RandomForestClassifier\n",
    "\n",
    "# Definindo hiperparâmetros do Random Forest\n",
    "n_estimators = 100\n",
    "max_depth = 100\n",
    "\n",
    "# Criando a estrutura básica\n",
    "rand_forest = RandomForestClassifier(\n",
    "    n_estimators=n_estimators, max_depth=max_depth, random_state=42\n",
    ")\n",
    "\n",
    "# Realizando o treinamento\n",
    "rand_forest.fit(X=X_train, y=y_train)\n",
    "\n",
    "# Realizando a predição no conjunto de teste\n",
    "y_pred = rand_forest.predict(X=X_test)\n",
    "\n",
    "# Mostrando a acurácia obtida\n",
    "rand_forest_accuracy = accuracy_score(y_test, y_pred)\n",
    "print(f\"Acurácia: {rand_forest_accuracy:.2f}\")"
   ]
  },
  {
   "cell_type": "markdown",
   "metadata": {},
   "source": [
    "Como é possível visualizar, o _Random Forest_ com **100 estimadores e 100 de profundidade máxima** conseguiu obter **85% de acurácia geral para classificação do conjunto de teste**. Além da acurácia, é possível visualizar o relatório completo abaixo.\n"
   ]
  },
  {
   "cell_type": "code",
   "execution_count": 21,
   "metadata": {},
   "outputs": [
    {
     "name": "stdout",
     "output_type": "stream",
     "text": [
      "\n",
      "Relatório de Classificação:\n",
      "              precision    recall  f1-score   support\n",
      "\n",
      "    Camiseta       0.82      0.87      0.85      1429\n",
      "     Vestido       0.91      0.92      0.92      1370\n",
      "      Casaco       0.87      0.90      0.88      1420\n",
      "      Camisa       0.78      0.70      0.73      1381\n",
      "\n",
      "    accuracy                           0.85      5600\n",
      "   macro avg       0.85      0.85      0.85      5600\n",
      "weighted avg       0.85      0.85      0.85      5600\n",
      "\n"
     ]
    }
   ],
   "source": [
    "# Mostrando o relatório completo de classificação\n",
    "print(\"\\nRelatório de Classificação:\")\n",
    "print(classification_report(y_test, y_pred, target_names=labels_names))"
   ]
  },
  {
   "cell_type": "markdown",
   "metadata": {},
   "source": [
    "A seguir, é possível visualizar a matriz de confusão e o respectivo mapa de calor.\n"
   ]
  },
  {
   "cell_type": "code",
   "execution_count": 22,
   "metadata": {},
   "outputs": [
    {
     "name": "stdout",
     "output_type": "stream",
     "text": [
      "Matriz de Confusão:\n",
      "\n",
      "[[1248   40    5  136]\n",
      " [  23 1267   41   39]\n",
      " [   1   47 1272  100]\n",
      " [ 242   35  142  962]]\n"
     ]
    },
    {
     "data": {
      "image/png": "[encoded data removed]",
      "text/plain": [
       "<Figure size 640x480 with 2 Axes>"
      ]
     },
     "metadata": {},
     "output_type": "display_data"
    }
   ],
   "source": [
    "# Criando e mostrando a matriz de confusão com relação ao conj. de teste\n",
    "print(\"Matriz de Confusão:\\n\")\n",
    "print(confusion_matrix(y_test, y_pred))\n",
    "rand_forest_cm_disp = ConfusionMatrixDisplay.from_predictions(\n",
    "    y_test, y_pred, display_labels=labels_names, cmap=\"Blues\"\n",
    ").figure_.suptitle(\"Matriz de Confusão\")"
   ]
  },
  {
   "cell_type": "markdown",
   "metadata": {},
   "source": [
    "### Ajuste de Hiperparâmetros do Melhor Modelo: **_Random Forest_**\n"
   ]
  },
  {
   "cell_type": "code",
   "execution_count": 23,
   "metadata": {},
   "outputs": [
    {
     "data": {
      "image/png": "[encoded data removed]",
      "text/plain": [
       "<Figure size 800x500 with 1 Axes>"
      ]
     },
     "metadata": {},
     "output_type": "display_data"
    }
   ],
   "source": [
    "# Criando o gráfico de comparativo de acurácia entre modelos\n",
    "acc_names_fig = np.array(\n",
    "    [\"Decision Tree (DT)\", \"Bagging (with DT)\", \"AdaBoost (with DT)\", \"Random Forest\"]\n",
    ")\n",
    "acc_values_fig = np.array(\n",
    "    [\n",
    "        dec_tree_accuracy * 100,\n",
    "        bagging_accuracy * 100,\n",
    "        ada_boost_accuracy * 100,\n",
    "        rand_forest_accuracy * 100,\n",
    "    ]\n",
    ")\n",
    "\n",
    "plt.figure(figsize=(8, 5))\n",
    "plt.bar(acc_names_fig, acc_values_fig)\n",
    "plt.suptitle(\"Acurácia dos Modelos para Fashion-MNIST*\")\n",
    "plt.title(\"*: apenas quatro classes\")\n",
    "plt.xlabel(\"Modelos\")\n",
    "plt.ylabel(\"Acurácia Obtida (em %)\")\n",
    "plt.show()"
   ]
  },
  {
   "cell_type": "markdown",
   "metadata": {},
   "source": [
    "Tendo em vista os resultados de **acurácia** obtidos por cada modelo executado anteriormente, e os quais são possíveis de visualizar no gráfico anterior, obteve-se que o melhor modelo foi o **Random Forest** com **85% de acurácia**. Desta forma, torna-se necessário verificar se é possível melhorar os hiperparâmetros para a obtenção de melhores resultados.\n",
    "\n",
    "Para tanto, é possível aplicar a técnica de **_Grid Search_**, a qual consiste em realizar testes exaustivos com base em um conjunto de valores especificados para os hiperparâmetros. Em outras palavras, esta técnica testa todas as combinações de hiperparâmetros especificadas pelo usuário para um determinado modelo, obtendo a melhor combinação ao final dos testes.\n"
   ]
  },
  {
   "cell_type": "code",
   "execution_count": 24,
   "metadata": {},
   "outputs": [
    {
     "name": "stdout",
     "output_type": "stream",
     "text": [
      "Melhores hiperparâmetros: {'max_depth': 50, 'n_estimators': 1000}\n",
      "Acurácia: 0.85\n",
      "\n",
      "Relatório de Classificação:\n",
      "              precision    recall  f1-score   support\n",
      "\n",
      "    Camiseta       0.83      0.88      0.85      1429\n",
      "     Vestido       0.91      0.93      0.92      1370\n",
      "      Casaco       0.87      0.90      0.89      1420\n",
      "      Camisa       0.79      0.70      0.74      1381\n",
      "\n",
      "    accuracy                           0.85      5600\n",
      "   macro avg       0.85      0.85      0.85      5600\n",
      "weighted avg       0.85      0.85      0.85      5600\n",
      "\n"
     ]
    }
   ],
   "source": [
    "# Importação do Grid Search para melhorar o modelo\n",
    "from sklearn.model_selection import GridSearchCV\n",
    "\n",
    "# Criação de um dicionário para conter um conjunto de valores de teste\n",
    "# Quatro números de estimadores máximo e quatro números de profundidade máxima\n",
    "param_grid = [\n",
    "    {\n",
    "        \"n_estimators\": [10, 50, 100, 1000],\n",
    "        \"max_depth\": [10, 50, 100, 150],\n",
    "    }\n",
    "]\n",
    "\n",
    "# Aplicação do Grid Search: execução exaustiva!\n",
    "grid_search_rand_forest = GridSearchCV(\n",
    "    estimator=RandomForestClassifier(random_state=42), param_grid=param_grid\n",
    ")\n",
    "\n",
    "# Treinamento do Grid Search\n",
    "grid_search_rand_forest.fit(X=X_train, y=y_train)\n",
    "\n",
    "# Mostrando os melhores parâmetros obtidos\n",
    "print(f\"Melhores hiperparâmetros: {grid_search_rand_forest.best_params_}\")\n",
    "\n",
    "# Realizando a predição no conjunto de teste\n",
    "y_pred = grid_search_rand_forest.predict(X=X_test)\n",
    "\n",
    "# Mostrando a acurácia obtida\n",
    "grid_search_rand_forest_accuracy = accuracy_score(y_test, y_pred)\n",
    "print(f\"Acurácia: {grid_search_rand_forest_accuracy:.2f}\")\n",
    "\n",
    "# Mostrando o relatório completo de classificação\n",
    "print(\"\\nRelatório de Classificação:\")\n",
    "print(classification_report(y_test, y_pred, target_names=labels_names))"
   ]
  },
  {
   "cell_type": "markdown",
   "metadata": {},
   "source": [
    "Como é possível visualizar, o _Random Forest_ com **1000 estimadores e 50 de profundidade máxima** conseguiu obter, também, **85% de acurácia geral para classificação do conjunto de teste**. Também, é possível visualizar a matriz de confusão a seguir, a qual mostra com mais detalhes em como essa performance foi melhor do que a anterior em, por exemplo, na **predição correta da classe \"Camisa\"**.\n"
   ]
  },
  {
   "cell_type": "code",
   "execution_count": 25,
   "metadata": {},
   "outputs": [
    {
     "name": "stdout",
     "output_type": "stream",
     "text": [
      "Matriz de Confusão:\n",
      "\n",
      "[[1251   39    6  133]\n",
      " [  22 1273   38   37]\n",
      " [   1   49 1278   92]\n",
      " [ 235   35  145  966]]\n"
     ]
    },
    {
     "data": {
      "image/png": "[encoded data removed]",
      "text/plain": [
       "<Figure size 640x480 with 2 Axes>"
      ]
     },
     "metadata": {},
     "output_type": "display_data"
    }
   ],
   "source": [
    "# Criando e mostrando a matriz de confusão com relação ao conj. de teste\n",
    "print(\"Matriz de Confusão:\\n\")\n",
    "print(confusion_matrix(y_test, y_pred))\n",
    "grid_search_rand_forest_cm_disp = ConfusionMatrixDisplay.from_predictions(\n",
    "    y_test, y_pred, display_labels=labels_names, cmap=\"Blues\"\n",
    ").figure_.suptitle(\"Matriz de Confusão\")"
   ]
  },
  {
   "cell_type": "markdown",
   "metadata": {},
   "source": [
    "---\n"
   ]
  },
  {
   "cell_type": "markdown",
   "metadata": {},
   "source": [
    "## **Multiclasse para Binário**\n"
   ]
  },
  {
   "cell_type": "markdown",
   "metadata": {},
   "source": [
    "Nesta seção, o problema multiclasse será tratado para binário por meio de duas abordagens diferentes: o **One vs All** e o **One vs One**. Cada qual será explicada em sua seção específica. Além disso, os subconjuntos de treinamento e de teste da abordagem **_cross-validation_** serão os mesmos utilizados anteriormente.\n"
   ]
  },
  {
   "cell_type": "markdown",
   "metadata": {},
   "source": [
    "### _One vs All (OVA) / One vs Rest (OVR)_\n"
   ]
  },
  {
   "cell_type": "markdown",
   "metadata": {},
   "source": [
    "A abordagem **One vs All (OVA)**, ou **One vs Rest (OVR)**, consiste em ajustar **um classificador por classe**. Neste caso, para cada classificador, a classe é ajustada com relação a todas as outras classes, tornando um modelo mais interpretável, uma vez que cada classe é representada por um classificador.\n"
   ]
  },
  {
   "cell_type": "code",
   "execution_count": 12,
   "metadata": {},
   "outputs": [
    {
     "name": "stdout",
     "output_type": "stream",
     "text": [
      "Acurácia: 0.73\n"
     ]
    }
   ],
   "source": [
    "# Métricas para análise de desempenho\n",
    "from sklearn.metrics import (\n",
    "    accuracy_score,\n",
    "    classification_report,\n",
    "    confusion_matrix,\n",
    "    ConfusionMatrixDisplay,\n",
    "    precision_score,\n",
    "    recall_score,\n",
    "    f1_score,\n",
    ")\n",
    "\n",
    "# One vs Rest com Decision Tree\n",
    "from sklearn.multiclass import OneVsRestClassifier\n",
    "from sklearn.tree import DecisionTreeClassifier\n",
    "\n",
    "# Definindo hiperparâmetros do Decision Tree\n",
    "max_depth = 100\n",
    "\n",
    "# Criando a estrutura básica\n",
    "ovr = OneVsRestClassifier(\n",
    "    estimator=DecisionTreeClassifier(max_depth=max_depth, random_state=42)\n",
    ")\n",
    "\n",
    "# Realizando o treinamento\n",
    "ovr.fit(X=X_train, y=y_train)\n",
    "\n",
    "# Realizando a predição no conjunto de teste\n",
    "y_pred = ovr.predict(X=X_test)\n",
    "\n",
    "# Mostrando a acurácia obtida\n",
    "ovr_accuracy = accuracy_score(y_test, y_pred)\n",
    "print(f\"Acurácia: {ovr_accuracy:.2f}\")"
   ]
  },
  {
   "cell_type": "markdown",
   "metadata": {},
   "source": [
    "Como é possível visualizar, a _Árvore de Decisão_ com a abordagem **OVA/OVR** e utilizando **100 de profundidade máxima** conseguiu obter **73% de acurácia geral para classificação do conjunto de teste**. Além da acurácia, é possível visualizar o relatório completo abaixo.\n"
   ]
  },
  {
   "cell_type": "code",
   "execution_count": 13,
   "metadata": {},
   "outputs": [
    {
     "name": "stdout",
     "output_type": "stream",
     "text": [
      "\n",
      "Relatório de Classificação:\n",
      "              precision    recall  f1-score   support\n",
      "\n",
      "    Camiseta       0.86      0.64      0.74      1429\n",
      "     Vestido       0.91      0.78      0.84      1370\n",
      "      Casaco       0.83      0.67      0.74      1420\n",
      "      Camisa       0.52      0.83      0.63      1381\n",
      "\n",
      "    accuracy                           0.73      5600\n",
      "   macro avg       0.78      0.73      0.74      5600\n",
      "weighted avg       0.78      0.73      0.74      5600\n",
      "\n"
     ]
    }
   ],
   "source": [
    "# Mostrando o relatório completo de classificação\n",
    "print(\"\\nRelatório de Classificação:\")\n",
    "print(classification_report(y_test, y_pred, target_names=labels_names))"
   ]
  },
  {
   "cell_type": "markdown",
   "metadata": {},
   "source": [
    "A seguir, é possível visualizar a matriz de confusão e o respectivo mapa de calor. Perceba o quão melhor para a **predição da classe \"Camisa\"** esta abordagem foi do que com relação aos modelos testados anteriormente.\n"
   ]
  },
  {
   "cell_type": "code",
   "execution_count": 14,
   "metadata": {},
   "outputs": [
    {
     "name": "stdout",
     "output_type": "stream",
     "text": [
      "Matriz de Confusão:\n",
      "\n",
      "[[ 915   41   20  453]\n",
      " [  25 1071   84  190]\n",
      " [   4   32  957  427]\n",
      " [ 116   36   89 1140]]\n"
     ]
    },
    {
     "data": {
      "image/png": "[encoded data removed]",
      "text/plain": [
       "<Figure size 640x480 with 2 Axes>"
      ]
     },
     "metadata": {},
     "output_type": "display_data"
    }
   ],
   "source": [
    "# Criando e mostrando a matriz de confusão com relação ao conj. de teste\n",
    "print(\"Matriz de Confusão:\\n\")\n",
    "print(confusion_matrix(y_test, y_pred))\n",
    "ovr_cm_disp = ConfusionMatrixDisplay.from_predictions(\n",
    "    y_test, y_pred, display_labels=labels_names, cmap=\"Blues\"\n",
    ").figure_.suptitle(\"Matriz de Confusão\")"
   ]
  },
  {
   "cell_type": "markdown",
   "metadata": {},
   "source": [
    "### _One vs One (OVO)_\n"
   ]
  },
  {
   "cell_type": "markdown",
   "metadata": {},
   "source": [
    "A abordagem **One vs One (OVO)** consiste em ajustar **um classificador por par de classes**. Neste método, são criados classificadores binários para cada par de classes e, com isso, cada classificador é treinado para distinguir entre duas classes específicas. Se um novo dado precisa ser classificado, ele é submetido a todos os classificadores e a classe que receber mais votos é considerada como a predita. Naturalmente, esta técnica é mais lenta do que a **OVA/OVR**, mas pode ser vantajosa em determinadas situações.\n"
   ]
  },
  {
   "cell_type": "code",
   "execution_count": 15,
   "metadata": {},
   "outputs": [
    {
     "name": "stdout",
     "output_type": "stream",
     "text": [
      "Acurácia: 0.76\n"
     ]
    }
   ],
   "source": [
    "# Métricas para análise de desempenho\n",
    "from sklearn.metrics import (\n",
    "    accuracy_score,\n",
    "    classification_report,\n",
    "    confusion_matrix,\n",
    "    ConfusionMatrixDisplay,\n",
    "    precision_score,\n",
    "    recall_score,\n",
    "    f1_score,\n",
    ")\n",
    "\n",
    "# One vs One com Decision Tree\n",
    "from sklearn.multiclass import OneVsOneClassifier\n",
    "from sklearn.tree import DecisionTreeClassifier\n",
    "\n",
    "# Definindo hiperparâmetros do Decision Tree\n",
    "max_depth = 100\n",
    "\n",
    "# Criando a estrutura básica\n",
    "ovo = OneVsOneClassifier(\n",
    "    estimator=DecisionTreeClassifier(max_depth=max_depth, random_state=42)\n",
    ")\n",
    "\n",
    "# Realizando o treinamento\n",
    "ovo.fit(X=X_train, y=y_train)\n",
    "\n",
    "# Realizando a predição no conjunto de teste\n",
    "y_pred = ovo.predict(X=X_test)\n",
    "\n",
    "# Mostrando a acurácia obtida\n",
    "ovo_accuracy = accuracy_score(y_test, y_pred)\n",
    "print(f\"Acurácia: {ovo_accuracy:.2f}\")"
   ]
  },
  {
   "cell_type": "markdown",
   "metadata": {},
   "source": [
    "Como é possível visualizar, a _Árvore de Decisão_ com a abordagem **OVO** e utilizando **100 de profundidade máxima** conseguiu obter **76% de acurácia geral para classificação do conjunto de teste**. Além da acurácia, é possível visualizar o relatório completo abaixo.\n"
   ]
  },
  {
   "cell_type": "code",
   "execution_count": 16,
   "metadata": {},
   "outputs": [
    {
     "name": "stdout",
     "output_type": "stream",
     "text": [
      "\n",
      "Relatório de Classificação:\n",
      "              precision    recall  f1-score   support\n",
      "\n",
      "    Camiseta       0.80      0.75      0.77      1429\n",
      "     Vestido       0.90      0.81      0.85      1370\n",
      "      Casaco       0.79      0.79      0.79      1420\n",
      "      Camisa       0.58      0.67      0.62      1381\n",
      "\n",
      "    accuracy                           0.76      5600\n",
      "   macro avg       0.77      0.76      0.76      5600\n",
      "weighted avg       0.77      0.76      0.76      5600\n",
      "\n"
     ]
    }
   ],
   "source": [
    "# Mostrando o relatório completo de classificação\n",
    "print(\"\\nRelatório de Classificação:\")\n",
    "print(classification_report(y_test, y_pred, target_names=labels_names))"
   ]
  },
  {
   "cell_type": "markdown",
   "metadata": {},
   "source": [
    "A seguir, é possível visualizar a matriz de confusão e o respectivo mapa de calor.\n"
   ]
  },
  {
   "cell_type": "code",
   "execution_count": 17,
   "metadata": {},
   "outputs": [
    {
     "name": "stdout",
     "output_type": "stream",
     "text": [
      "Matriz de Confusão:\n",
      "\n",
      "[[1077   46   12  294]\n",
      " [  47 1109   86  128]\n",
      " [   1   46 1126  247]\n",
      " [ 227   35  194  925]]\n"
     ]
    },
    {
     "data": {
      "image/png": "[encoded data removed]",
      "text/plain": [
       "<Figure size 640x480 with 2 Axes>"
      ]
     },
     "metadata": {},
     "output_type": "display_data"
    }
   ],
   "source": [
    "# Criando e mostrando a matriz de confusão com relação ao conj. de teste\n",
    "print(\"Matriz de Confusão:\\n\")\n",
    "print(confusion_matrix(y_test, y_pred))\n",
    "ovo_cm_disp = ConfusionMatrixDisplay.from_predictions(\n",
    "    y_test, y_pred, display_labels=labels_names, cmap=\"Blues\"\n",
    ").figure_.suptitle(\"Matriz de Confusão\")"
   ]
  },
  {
   "cell_type": "markdown",
   "metadata": {},
   "source": [
    "### Melhor Abordagem: **_One vs One_**\n"
   ]
  },
  {
   "cell_type": "markdown",
   "metadata": {},
   "source": [
    "De acordo com os resultados obtidos, a melhor abordagem binária para este problema foi a **One vs One**, dado com **76% de acurácia geral**, ainda que a **One vs All** tenha predito melhor a classe _Camisa_. O gráfico abaixo exprime as acurácias obtidas durante os testes.\n"
   ]
  },
  {
   "cell_type": "code",
   "execution_count": 20,
   "metadata": {},
   "outputs": [
    {
     "data": {
      "image/png": "[encoded data removed]",
      "text/plain": [
       "<Figure size 400x600 with 1 Axes>"
      ]
     },
     "metadata": {},
     "output_type": "display_data"
    }
   ],
   "source": [
    "# Criando o gráfico de comparativo de acurácia entre abordagens binárias\n",
    "acc_names_fig = np.array([\"One vs All\", \"One vs One\"])\n",
    "acc_values_fig = np.array(\n",
    "    [\n",
    "        ovr_accuracy * 100,\n",
    "        ovo_accuracy * 100,\n",
    "    ]\n",
    ")\n",
    "\n",
    "plt.figure(figsize=(4, 6))\n",
    "plt.bar(acc_names_fig, acc_values_fig)\n",
    "plt.suptitle(\"Acurácia das Abordagens Binárias para Fashion-MNIST*\")\n",
    "plt.title(\"*: apenas quatro classes\")\n",
    "plt.xlabel(\"Abordagens\")\n",
    "plt.ylabel(\"Acurácia Obtida (em %)\")\n",
    "plt.show()"
   ]
  },
  {
   "cell_type": "markdown",
   "metadata": {},
   "source": [
    "---\n"
   ]
  }
 ],
 "metadata": {
  "kernelspec": {
   "display_name": "Python 3",
   "language": "python",
   "name": "python3"
  },
  "language_info": {
   "codemirror_mode": {
    "name": "ipython",
    "version": 3
   },
   "file_extension": ".py",
   "mimetype": "text/x-python",
   "name": "python",
   "nbconvert_exporter": "python",
   "pygments_lexer": "ipython3",
   "version": "3.12.0"
  },
  "orig_nbformat": 4,
  "polyglot_notebook": {
   "kernelInfo": {
    "defaultKernelName": "csharp",
    "items": [
     {
      "aliases": [],
      "name": "csharp"
     }
    ]
   }
  }
 },
 "nbformat": 4,
 "nbformat_minor": 2
}
